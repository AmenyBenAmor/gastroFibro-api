{
  "cells": [
    {
      "cell_type": "code",
      "execution_count": 1,
      "metadata": {
        "id": "QytNt-eUs_VC"
      },
      "outputs": [],
      "source": [
        "from tensorflow.keras.applications import DenseNet121\n",
        "from tensorflow.keras.models import Model\n",
        "from tensorflow.keras.layers import GlobalAveragePooling2D, Dense, Dropout\n",
        "from tensorflow.keras.optimizers import Adam\n",
        "from tensorflow.keras.callbacks import EarlyStopping, ReduceLROnPlateau, ModelCheckpoint\n",
        "from sklearn.utils.class_weight import compute_class_weight\n",
        "from tensorflow.keras.preprocessing.image import ImageDataGenerator\n",
        "import matplotlib.pyplot as plt\n",
        "import numpy as np\n",
        "import os, shutil, zipfile"
      ]
    },
    {
      "cell_type": "code",
      "source": [
        "IMAGE_SIZE = (224, 224)\n",
        "BATCH_SIZE = 32\n",
        "SEED = 42"
      ],
      "metadata": {
        "id": "xwmK92xRM8XZ"
      },
      "execution_count": 2,
      "outputs": []
    },
    {
      "cell_type": "code",
      "source": [
        "zip_path = \"/content/Dataset_fibro.zip\"\n",
        "extract_all_dir = \"/content/Gastrovision\"\n",
        "filtered_output_dir = \"/content/Dataset_fibro\"\n",
        "\n",
        "malade_classes = [\n",
        "    \"Colorectal cancer\", \"Ulcer\", \"Esophagitis\", \"Gastric polyps\", \"Mucosal inflammation\"\n",
        "]\n",
        "sain_classes = [\n",
        "    \"Normal mucosa\", \"Normal stomach\", \"Pylorus\"\n",
        "]\n",
        "selected_classes = malade_classes + sain_classes\n"
      ],
      "metadata": {
        "id": "julGN7tdNBag"
      },
      "execution_count": 3,
      "outputs": []
    },
    {
      "cell_type": "code",
      "source": [
        "print(\"Extraction du fichier zip...\")\n",
        "with zipfile.ZipFile(zip_path, 'r') as zip_ref:\n",
        "    zip_ref.extractall(extract_all_dir)\n",
        "print(\"Extraction terminée.\")"
      ],
      "metadata": {
        "colab": {
          "base_uri": "https://localhost:8080/"
        },
        "id": "6VA8YGMMNFCs",
        "outputId": "d126170d-3206-486e-f73d-e51f95834754"
      },
      "execution_count": 4,
      "outputs": [
        {
          "output_type": "stream",
          "name": "stdout",
          "text": [
            "Extraction du fichier zip...\n",
            "Extraction terminée.\n"
          ]
        }
      ]
    },
    {
      "cell_type": "code",
      "source": [
        "print(\"Copie des dossiers sélectionnés...\")\n",
        "for root, dirs, files in os.walk(extract_all_dir):\n",
        "    for class_name in selected_classes:\n",
        "        class_path = os.path.join(root, class_name)\n",
        "        if os.path.isdir(class_path):\n",
        "            dest_path = os.path.join(filtered_output_dir, class_name)\n",
        "            shutil.copytree(class_path, dest_path, dirs_exist_ok=True)\n",
        "            print(f\" Copié : {class_name}\")\n",
        "    break\n",
        "\n",
        "print(\"Dataset réduit créé dans :\", filtered_output_dir)"
      ],
      "metadata": {
        "colab": {
          "base_uri": "https://localhost:8080/"
        },
        "id": "Thvg-Y7INLo7",
        "outputId": "91c9ce18-b5cc-4ebe-db9e-b6761b3b24a0"
      },
      "execution_count": 5,
      "outputs": [
        {
          "output_type": "stream",
          "name": "stdout",
          "text": [
            "Copie des dossiers sélectionnés...\n",
            "Dataset réduit créé dans : /content/Dataset_fibro\n"
          ]
        }
      ]
    },
    {
      "cell_type": "code",
      "execution_count": 6,
      "metadata": {
        "colab": {
          "base_uri": "https://localhost:8080/"
        },
        "id": "doWNtINagjqw",
        "outputId": "f0ab2a3f-65bd-4333-eb91-77e4cd4e1e4f"
      },
      "outputs": [
        {
          "output_type": "stream",
          "name": "stdout",
          "text": [
            " Classe copiée : Normal mucosa and vascular pattern in the large bowel\n",
            " Classe copiée : Normal stomach\n",
            " Classe copiée : Pylorus\n",
            " Classe copiée : Mucosal inflammation large bowel\n",
            " Classe copiée : Colorectal cancer\n",
            " Classe copiée : Gastric polyps\n",
            " Classe copiée : Esophagitis\n",
            " Classe copiée : Ulcer\n"
          ]
        }
      ],
      "source": [
        "original_root = \"/content/Gastrovision/Dataset_fibro\"\n",
        "flat_root = \"/content/dataset_fibro_flat\"\n",
        "os.makedirs(flat_root, exist_ok=True)\n",
        "\n",
        "for super_class in os.listdir(original_root):\n",
        "    super_class_path = os.path.join(original_root, super_class)\n",
        "    if os.path.isdir(super_class_path):\n",
        "        for class_name in os.listdir(super_class_path):\n",
        "            src_class_path = os.path.join(super_class_path, class_name)\n",
        "            dst_class_path = os.path.join(flat_root, class_name)\n",
        "            if os.path.isdir(src_class_path):\n",
        "                shutil.copytree(src_class_path, dst_class_path, dirs_exist_ok=True)\n",
        "                print(f\" Classe copiée : {class_name}\")"
      ]
    },
    {
      "cell_type": "code",
      "execution_count": 7,
      "metadata": {
        "colab": {
          "base_uri": "https://localhost:8080/"
        },
        "id": "ZHTGKSrlwk0o",
        "outputId": "27591752-4f6b-46ff-9832-030b9fe5cdff"
      },
      "outputs": [
        {
          "output_type": "stream",
          "name": "stdout",
          "text": [
            "Found 2544 images belonging to 8 classes.\n",
            "Found 631 images belonging to 8 classes.\n",
            "Class Weights: {0: np.float64(2.8392857142857144), 1: np.float64(3.697674418604651), 2: np.float64(6.115384615384615), 3: np.float64(13.25), 4: np.float64(0.2708688245315162), 5: np.float64(0.4097938144329897), 6: np.float64(1.0095238095238095), 7: np.float64(63.6)}\n"
          ]
        }
      ],
      "source": [
        "train_datagen = ImageDataGenerator(\n",
        "    rescale=1./255,\n",
        "    validation_split=0.2,\n",
        "    rotation_range=15,\n",
        "    zoom_range=0.2,\n",
        "    horizontal_flip=True,\n",
        "    width_shift_range=0.1,\n",
        "    height_shift_range=0.1,\n",
        "    fill_mode='nearest'\n",
        ")\n",
        "\n",
        "DATA_DIR = flat_root\n",
        "\n",
        "train_gen = train_datagen.flow_from_directory(\n",
        "    DATA_DIR,\n",
        "    target_size=IMAGE_SIZE,\n",
        "    batch_size=BATCH_SIZE,\n",
        "    class_mode='categorical',\n",
        "    subset='training',\n",
        "    seed=SEED\n",
        ")\n",
        "\n",
        "val_gen = train_datagen.flow_from_directory(\n",
        "    DATA_DIR,\n",
        "    target_size=IMAGE_SIZE,\n",
        "    batch_size=BATCH_SIZE,\n",
        "    class_mode='categorical',\n",
        "    subset='validation',\n",
        "    seed=SEED\n",
        ")\n",
        "\n",
        "# === CLASS WEIGHTS ===\n",
        "y_train = train_gen.classes\n",
        "class_weights = compute_class_weight(\n",
        "    class_weight='balanced',\n",
        "    classes=np.unique(y_train),\n",
        "    y=y_train\n",
        ")\n",
        "class_weights_dict = dict(enumerate(class_weights))\n",
        "print(\"Class Weights:\", class_weights_dict)"
      ]
    },
    {
      "cell_type": "code",
      "execution_count": 8,
      "metadata": {
        "id": "erDL0Hg4wuNd"
      },
      "outputs": [],
      "source": [
        "# === CALLBACKS ===\n",
        "early_stop = EarlyStopping(monitor='val_loss', patience=7, restore_best_weights=True, verbose=1)\n",
        "reduce_lr = ReduceLROnPlateau(monitor='val_loss', factor=0.5, patience=4, min_lr=1e-6, verbose=1)\n",
        "checkpoint = ModelCheckpoint(\"best_model_densenet.h5\", monitor='val_loss', save_best_only=True, verbose=1)"
      ]
    },
    {
      "cell_type": "code",
      "execution_count": 9,
      "metadata": {
        "colab": {
          "base_uri": "https://localhost:8080/"
        },
        "collapsed": true,
        "id": "hQogg2Tgw4j7",
        "outputId": "1af3d6e3-3a2b-4313-8a27-0cc027e269ae"
      },
      "outputs": [
        {
          "output_type": "stream",
          "name": "stdout",
          "text": [
            "Downloading data from https://storage.googleapis.com/tensorflow/keras-applications/densenet/densenet121_weights_tf_dim_ordering_tf_kernels_notop.h5\n",
            "\u001b[1m29084464/29084464\u001b[0m \u001b[32m━━━━━━━━━━━━━━━━━━━━\u001b[0m\u001b[37m\u001b[0m \u001b[1m2s\u001b[0m 0us/step\n"
          ]
        }
      ],
      "source": [
        "from tensorflow.keras.applications import DenseNet121\n",
        "\n",
        "# === Phase 1: entraînement de la tête ===\n",
        "base_model = DenseNet121(weights='imagenet', include_top=False, input_shape=(224, 224, 3))\n",
        "base_model.trainable = False\n",
        "\n",
        "x = GlobalAveragePooling2D()(base_model.output)\n",
        "x = Dropout(0.4)(x)\n",
        "x = Dense(256, activation='relu')(x)\n",
        "x = Dropout(0.3)(x)\n",
        "x = Dense(128, activation='relu')(x)\n",
        "output = Dense(train_gen.num_classes, activation='softmax')(x)\n",
        "\n",
        "model = Model(inputs=base_model.input, outputs=output)\n",
        "model.compile(\n",
        "    optimizer=Adam(learning_rate=1e-3),\n",
        "    loss='categorical_crossentropy',\n",
        "    metrics=['accuracy']\n",
        ")"
      ]
    },
    {
      "cell_type": "code",
      "execution_count": 10,
      "metadata": {
        "colab": {
          "base_uri": "https://localhost:8080/"
        },
        "id": "GoW6TRWRw-nr",
        "outputId": "9a8219c3-a086-4459-d9ee-c710bb5555da"
      },
      "outputs": [
        {
          "metadata": {
            "tags": null
          },
          "name": "stderr",
          "output_type": "stream",
          "text": [
            "/usr/local/lib/python3.11/dist-packages/keras/src/trainers/data_adapters/py_dataset_adapter.py:121: UserWarning: Your `PyDataset` class should call `super().__init__(**kwargs)` in its constructor. `**kwargs` can include `workers`, `use_multiprocessing`, `max_queue_size`. Do not pass these arguments to `fit()`, as they will be ignored.\n",
            "  self._warn_if_super_not_called()\n"
          ]
        },
        {
          "metadata": {
            "tags": null
          },
          "name": "stdout",
          "output_type": "stream",
          "text": [
            "Epoch 1/10\n",
            "\u001b[1m80/80\u001b[0m \u001b[32m━━━━━━━━━━━━━━━━━━━━\u001b[0m\u001b[37m\u001b[0m \u001b[1m0s\u001b[0m 5s/step - accuracy: 0.2870 - loss: 2.4580\n",
            "Epoch 1: val_loss improved from inf to 1.28826, saving model to best_model.h5\n"
          ]
        },
        {
          "metadata": {
            "tags": null
          },
          "name": "stderr",
          "output_type": "stream",
          "text": [
            "WARNING:absl:You are saving your model as an HDF5 file via `model.save()` or `keras.saving.save_model(model)`. This file format is considered legacy. We recommend using instead the native Keras format, e.g. `model.save('my_model.keras')` or `keras.saving.save_model(model, 'my_model.keras')`. \n"
          ]
        },
        {
          "metadata": {
            "tags": null
          },
          "name": "stdout",
          "output_type": "stream",
          "text": [
            "\u001b[1m80/80\u001b[0m \u001b[32m━━━━━━━━━━━━━━━━━━━━\u001b[0m\u001b[37m\u001b[0m \u001b[1m608s\u001b[0m 7s/step - accuracy: 0.2877 - loss: 2.4575 - val_accuracy: 0.4802 - val_loss: 1.2883 - learning_rate: 0.0010\n",
            "Epoch 2/10\n",
            "\u001b[1m80/80\u001b[0m \u001b[32m━━━━━━━━━━━━━━━━━━━━\u001b[0m\u001b[37m\u001b[0m \u001b[1m0s\u001b[0m 6s/step - accuracy: 0.3692 - loss: 1.7460\n",
            "Epoch 2: val_loss did not improve from 1.28826\n",
            "\u001b[1m80/80\u001b[0m \u001b[32m━━━━━━━━━━━━━━━━━━━━\u001b[0m\u001b[37m\u001b[0m \u001b[1m595s\u001b[0m 7s/step - accuracy: 0.3697 - loss: 1.7451 - val_accuracy: 0.3233 - val_loss: 1.4759 - learning_rate: 0.0010\n",
            "Epoch 3/10\n",
            "\u001b[1m80/80\u001b[0m \u001b[32m━━━━━━━━━━━━━━━━━━━━\u001b[0m\u001b[37m\u001b[0m \u001b[1m0s\u001b[0m 6s/step - accuracy: 0.4739 - loss: 1.9432\n",
            "Epoch 3: val_loss did not improve from 1.28826\n",
            "\u001b[1m80/80\u001b[0m \u001b[32m━━━━━━━━━━━━━━━━━━━━\u001b[0m\u001b[37m\u001b[0m \u001b[1m561s\u001b[0m 7s/step - accuracy: 0.4740 - loss: 1.9387 - val_accuracy: 0.3803 - val_loss: 1.3566 - learning_rate: 0.0010\n",
            "Epoch 4/10\n",
            "\u001b[1m80/80\u001b[0m \u001b[32m━━━━━━━━━━━━━━━━━━━━\u001b[0m\u001b[37m\u001b[0m \u001b[1m0s\u001b[0m 6s/step - accuracy: 0.5063 - loss: 1.1075\n",
            "Epoch 4: val_loss did not improve from 1.28826\n",
            "\u001b[1m80/80\u001b[0m \u001b[32m━━━━━━━━━━━━━━━━━━━━\u001b[0m\u001b[37m\u001b[0m \u001b[1m557s\u001b[0m 7s/step - accuracy: 0.5062 - loss: 1.1116 - val_accuracy: 0.2441 - val_loss: 1.7365 - learning_rate: 0.0010\n",
            "Epoch 5/10\n",
            "\u001b[1m80/80\u001b[0m \u001b[32m━━━━━━━━━━━━━━━━━━━━\u001b[0m\u001b[37m\u001b[0m \u001b[1m0s\u001b[0m 6s/step - accuracy: 0.4591 - loss: 1.4860\n",
            "Epoch 5: val_loss improved from 1.28826 to 1.26234, saving model to best_model.h5\n"
          ]
        },
        {
          "metadata": {
            "tags": null
          },
          "name": "stderr",
          "output_type": "stream",
          "text": [
            "WARNING:absl:You are saving your model as an HDF5 file via `model.save()` or `keras.saving.save_model(model)`. This file format is considered legacy. We recommend using instead the native Keras format, e.g. `model.save('my_model.keras')` or `keras.saving.save_model(model, 'my_model.keras')`. \n"
          ]
        },
        {
          "metadata": {
            "tags": null
          },
          "name": "stdout",
          "output_type": "stream",
          "text": [
            "\u001b[1m80/80\u001b[0m \u001b[32m━━━━━━━━━━━━━━━━━━━━\u001b[0m\u001b[37m\u001b[0m \u001b[1m556s\u001b[0m 7s/step - accuracy: 0.4597 - loss: 1.4851 - val_accuracy: 0.5151 - val_loss: 1.2623 - learning_rate: 0.0010\n",
            "Epoch 6/10\n",
            "\u001b[1m80/80\u001b[0m \u001b[32m━━━━━━━━━━━━━━━━━━━━\u001b[0m\u001b[37m\u001b[0m \u001b[1m0s\u001b[0m 6s/step - accuracy: 0.5676 - loss: 1.1754\n",
            "Epoch 6: val_loss improved from 1.26234 to 0.99610, saving model to best_model.h5\n"
          ]
        },
        {
          "metadata": {
            "tags": null
          },
          "name": "stderr",
          "output_type": "stream",
          "text": [
            "WARNING:absl:You are saving your model as an HDF5 file via `model.save()` or `keras.saving.save_model(model)`. This file format is considered legacy. We recommend using instead the native Keras format, e.g. `model.save('my_model.keras')` or `keras.saving.save_model(model, 'my_model.keras')`. \n"
          ]
        },
        {
          "metadata": {
            "tags": null
          },
          "name": "stdout",
          "output_type": "stream",
          "text": [
            "\u001b[1m80/80\u001b[0m \u001b[32m━━━━━━━━━━━━━━━━━━━━\u001b[0m\u001b[37m\u001b[0m \u001b[1m589s\u001b[0m 7s/step - accuracy: 0.5674 - loss: 1.1773 - val_accuracy: 0.6434 - val_loss: 0.9961 - learning_rate: 0.0010\n",
            "Epoch 7/10\n",
            "\u001b[1m80/80\u001b[0m \u001b[32m━━━━━━━━━━━━━━━━━━━━\u001b[0m\u001b[37m\u001b[0m \u001b[1m0s\u001b[0m 6s/step - accuracy: 0.5718 - loss: 1.3208\n",
            "Epoch 7: val_loss did not improve from 0.99610\n",
            "\u001b[1m80/80\u001b[0m \u001b[32m━━━━━━━━━━━━━━━━━━━━\u001b[0m\u001b[37m\u001b[0m \u001b[1m586s\u001b[0m 7s/step - accuracy: 0.5717 - loss: 1.3214 - val_accuracy: 0.6450 - val_loss: 1.0034 - learning_rate: 0.0010\n",
            "Epoch 8/10\n",
            "\u001b[1m80/80\u001b[0m \u001b[32m━━━━━━━━━━━━━━━━━━━━\u001b[0m\u001b[37m\u001b[0m \u001b[1m0s\u001b[0m 6s/step - accuracy: 0.5665 - loss: 1.2491\n",
            "Epoch 8: val_loss did not improve from 0.99610\n",
            "\u001b[1m80/80\u001b[0m \u001b[32m━━━━━━━━━━━━━━━━━━━━\u001b[0m\u001b[37m\u001b[0m \u001b[1m549s\u001b[0m 7s/step - accuracy: 0.5664 - loss: 1.2480 - val_accuracy: 0.5689 - val_loss: 1.0750 - learning_rate: 0.0010\n",
            "Epoch 9/10\n",
            "\u001b[1m80/80\u001b[0m \u001b[32m━━━━━━━━━━━━━━━━━━━━\u001b[0m\u001b[37m\u001b[0m \u001b[1m0s\u001b[0m 5s/step - accuracy: 0.5809 - loss: 1.0307\n",
            "Epoch 9: val_loss improved from 0.99610 to 0.88240, saving model to best_model.h5\n"
          ]
        },
        {
          "metadata": {
            "tags": null
          },
          "name": "stderr",
          "output_type": "stream",
          "text": [
            "WARNING:absl:You are saving your model as an HDF5 file via `model.save()` or `keras.saving.save_model(model)`. This file format is considered legacy. We recommend using instead the native Keras format, e.g. `model.save('my_model.keras')` or `keras.saving.save_model(model, 'my_model.keras')`. \n"
          ]
        },
        {
          "metadata": {
            "tags": null
          },
          "name": "stdout",
          "output_type": "stream",
          "text": [
            "\u001b[1m80/80\u001b[0m \u001b[32m━━━━━━━━━━━━━━━━━━━━\u001b[0m\u001b[37m\u001b[0m \u001b[1m550s\u001b[0m 7s/step - accuracy: 0.5807 - loss: 1.0320 - val_accuracy: 0.6846 - val_loss: 0.8824 - learning_rate: 0.0010\n",
            "Epoch 10/10\n",
            "\u001b[1m80/80\u001b[0m \u001b[32m━━━━━━━━━━━━━━━━━━━━\u001b[0m\u001b[37m\u001b[0m \u001b[1m0s\u001b[0m 6s/step - accuracy: 0.5898 - loss: 1.1486\n",
            "Epoch 10: val_loss did not improve from 0.88240\n",
            "\u001b[1m80/80\u001b[0m \u001b[32m━━━━━━━━━━━━━━━━━━━━\u001b[0m\u001b[37m\u001b[0m \u001b[1m583s\u001b[0m 7s/step - accuracy: 0.5898 - loss: 1.1483 - val_accuracy: 0.6498 - val_loss: 0.9325 - learning_rate: 0.0010\n",
            "Restoring model weights from the end of the best epoch: 9.\n",
            "Epoch 1/100\n",
            "\u001b[1m80/80\u001b[0m \u001b[32m━━━━━━━━━━━━━━━━━━━━\u001b[0m\u001b[37m\u001b[0m \u001b[1m0s\u001b[0m 12s/step - accuracy: 0.5268 - loss: 1.2307 \n",
            "Epoch 1: val_loss improved from 0.88240 to 0.52543, saving model to best_model.h5\n"
          ]
        },
        {
          "metadata": {
            "tags": null
          },
          "name": "stderr",
          "output_type": "stream",
          "text": [
            "WARNING:absl:You are saving your model as an HDF5 file via `model.save()` or `keras.saving.save_model(model)`. This file format is considered legacy. We recommend using instead the native Keras format, e.g. `model.save('my_model.keras')` or `keras.saving.save_model(model, 'my_model.keras')`. \n"
          ]
        },
        {
          "metadata": {
            "tags": null
          },
          "name": "stdout",
          "output_type": "stream",
          "text": [
            "\u001b[1m80/80\u001b[0m \u001b[32m━━━━━━━━━━━━━━━━━━━━\u001b[0m\u001b[37m\u001b[0m \u001b[1m1224s\u001b[0m 14s/step - accuracy: 0.5276 - loss: 1.2311 - val_accuracy: 0.8415 - val_loss: 0.5254 - learning_rate: 1.0000e-04\n",
            "Epoch 2/100\n",
            "\u001b[1m80/80\u001b[0m \u001b[32m━━━━━━━━━━━━━━━━━━━━\u001b[0m\u001b[37m\u001b[0m \u001b[1m0s\u001b[0m 12s/step - accuracy: 0.7125 - loss: 0.6580 \n",
            "Epoch 2: val_loss improved from 0.52543 to 0.50593, saving model to best_model.h5\n"
          ]
        },
        {
          "metadata": {
            "tags": null
          },
          "name": "stderr",
          "output_type": "stream",
          "text": [
            "WARNING:absl:You are saving your model as an HDF5 file via `model.save()` or `keras.saving.save_model(model)`. This file format is considered legacy. We recommend using instead the native Keras format, e.g. `model.save('my_model.keras')` or `keras.saving.save_model(model, 'my_model.keras')`. \n"
          ]
        },
        {
          "metadata": {
            "tags": null
          },
          "name": "stdout",
          "output_type": "stream",
          "text": [
            "\u001b[1m80/80\u001b[0m \u001b[32m━━━━━━━━━━━━━━━━━━━━\u001b[0m\u001b[37m\u001b[0m \u001b[1m1122s\u001b[0m 14s/step - accuracy: 0.7127 - loss: 0.6590 - val_accuracy: 0.8225 - val_loss: 0.5059 - learning_rate: 1.0000e-04\n",
            "Epoch 3/100\n",
            "\u001b[1m80/80\u001b[0m \u001b[32m━━━━━━━━━━━━━━━━━━━━\u001b[0m\u001b[37m\u001b[0m \u001b[1m0s\u001b[0m 12s/step - accuracy: 0.7638 - loss: 0.7215 \n",
            "Epoch 3: val_loss did not improve from 0.50593\n",
            "\u001b[1m80/80\u001b[0m \u001b[32m━━━━━━━━━━━━━━━━━━━━\u001b[0m\u001b[37m\u001b[0m \u001b[1m1119s\u001b[0m 14s/step - accuracy: 0.7635 - loss: 0.7205 - val_accuracy: 0.7496 - val_loss: 0.6673 - learning_rate: 1.0000e-04\n",
            "Epoch 4/100\n",
            "\u001b[1m80/80\u001b[0m \u001b[32m━━━━━━━━━━━━━━━━━━━━\u001b[0m\u001b[37m\u001b[0m \u001b[1m0s\u001b[0m 12s/step - accuracy: 0.7923 - loss: 0.3775 \n",
            "Epoch 4: val_loss did not improve from 0.50593\n",
            "\u001b[1m80/80\u001b[0m \u001b[32m━━━━━━━━━━━━━━━━━━━━\u001b[0m\u001b[37m\u001b[0m \u001b[1m1117s\u001b[0m 14s/step - accuracy: 0.7925 - loss: 0.3779 - val_accuracy: 0.7718 - val_loss: 0.6139 - learning_rate: 1.0000e-04\n",
            "Epoch 5/100\n",
            "\u001b[1m80/80\u001b[0m \u001b[32m━━━━━━━━━━━━━━━━━━━━\u001b[0m\u001b[37m\u001b[0m \u001b[1m0s\u001b[0m 12s/step - accuracy: 0.8237 - loss: 0.3400 \n",
            "Epoch 5: val_loss did not improve from 0.50593\n",
            "\u001b[1m80/80\u001b[0m \u001b[32m━━━━━━━━━━━━━━━━━━━━\u001b[0m\u001b[37m\u001b[0m \u001b[1m1081s\u001b[0m 14s/step - accuracy: 0.8238 - loss: 0.3403 - val_accuracy: 0.7750 - val_loss: 0.6243 - learning_rate: 1.0000e-04\n",
            "Epoch 6/100\n",
            "\u001b[1m80/80\u001b[0m \u001b[32m━━━━━━━━━━━━━━━━━━━━\u001b[0m\u001b[37m\u001b[0m \u001b[1m0s\u001b[0m 12s/step - accuracy: 0.8532 - loss: 0.2957 \n",
            "Epoch 6: ReduceLROnPlateau reducing learning rate to 4.999999873689376e-05.\n",
            "\n",
            "Epoch 6: val_loss did not improve from 0.50593\n",
            "\u001b[1m80/80\u001b[0m \u001b[32m━━━━━━━━━━━━━━━━━━━━\u001b[0m\u001b[37m\u001b[0m \u001b[1m1087s\u001b[0m 14s/step - accuracy: 0.8530 - loss: 0.2960 - val_accuracy: 0.7876 - val_loss: 0.5849 - learning_rate: 1.0000e-04\n",
            "Epoch 7/100\n",
            "\u001b[1m80/80\u001b[0m \u001b[32m━━━━━━━━━━━━━━━━━━━━\u001b[0m\u001b[37m\u001b[0m \u001b[1m0s\u001b[0m 12s/step - accuracy: 0.8457 - loss: 0.2883 \n",
            "Epoch 7: val_loss improved from 0.50593 to 0.48879, saving model to best_model.h5\n"
          ]
        },
        {
          "metadata": {
            "tags": null
          },
          "name": "stderr",
          "output_type": "stream",
          "text": [
            "WARNING:absl:You are saving your model as an HDF5 file via `model.save()` or `keras.saving.save_model(model)`. This file format is considered legacy. We recommend using instead the native Keras format, e.g. `model.save('my_model.keras')` or `keras.saving.save_model(model, 'my_model.keras')`. \n"
          ]
        },
        {
          "metadata": {
            "tags": null
          },
          "name": "stdout",
          "output_type": "stream",
          "text": [
            "\u001b[1m80/80\u001b[0m \u001b[32m━━━━━━━━━━━━━━━━━━━━\u001b[0m\u001b[37m\u001b[0m \u001b[1m1085s\u001b[0m 14s/step - accuracy: 0.8458 - loss: 0.2881 - val_accuracy: 0.8463 - val_loss: 0.4888 - learning_rate: 5.0000e-05\n",
            "Epoch 8/100\n",
            "\u001b[1m80/80\u001b[0m \u001b[32m━━━━━━━━━━━━━━━━━━━━\u001b[0m\u001b[37m\u001b[0m \u001b[1m0s\u001b[0m 12s/step - accuracy: 0.8667 - loss: 0.3564 \n",
            "Epoch 8: val_loss did not improve from 0.48879\n",
            "\u001b[1m80/80\u001b[0m \u001b[32m━━━━━━━━━━━━━━━━━━━━\u001b[0m\u001b[37m\u001b[0m \u001b[1m1090s\u001b[0m 14s/step - accuracy: 0.8666 - loss: 0.3560 - val_accuracy: 0.8352 - val_loss: 0.5149 - learning_rate: 5.0000e-05\n",
            "Epoch 9/100\n",
            "\u001b[1m80/80\u001b[0m \u001b[32m━━━━━━━━━━━━━━━━━━━━\u001b[0m\u001b[37m\u001b[0m \u001b[1m0s\u001b[0m 12s/step - accuracy: 0.8632 - loss: 0.2638 \n",
            "Epoch 9: val_loss did not improve from 0.48879\n",
            "\u001b[1m80/80\u001b[0m \u001b[32m━━━━━━━━━━━━━━━━━━━━\u001b[0m\u001b[37m\u001b[0m \u001b[1m1087s\u001b[0m 14s/step - accuracy: 0.8634 - loss: 0.2635 - val_accuracy: 0.8415 - val_loss: 0.5056 - learning_rate: 5.0000e-05\n",
            "Epoch 10/100\n",
            "\u001b[1m80/80\u001b[0m \u001b[32m━━━━━━━━━━━━━━━━━━━━\u001b[0m\u001b[37m\u001b[0m \u001b[1m0s\u001b[0m 13s/step - accuracy: 0.8789 - loss: 0.2103 \n",
            "Epoch 10: val_loss improved from 0.48879 to 0.48220, saving model to best_model.h5\n"
          ]
        },
        {
          "metadata": {
            "tags": null
          },
          "name": "stderr",
          "output_type": "stream",
          "text": [
            "WARNING:absl:You are saving your model as an HDF5 file via `model.save()` or `keras.saving.save_model(model)`. This file format is considered legacy. We recommend using instead the native Keras format, e.g. `model.save('my_model.keras')` or `keras.saving.save_model(model, 'my_model.keras')`. \n"
          ]
        },
        {
          "metadata": {
            "tags": null
          },
          "name": "stdout",
          "output_type": "stream",
          "text": [
            "\u001b[1m80/80\u001b[0m \u001b[32m━━━━━━━━━━━━━━━━━━━━\u001b[0m\u001b[37m\u001b[0m \u001b[1m1122s\u001b[0m 14s/step - accuracy: 0.8790 - loss: 0.2104 - val_accuracy: 0.8542 - val_loss: 0.4822 - learning_rate: 5.0000e-05\n",
            "Epoch 11/100\n",
            "\u001b[1m80/80\u001b[0m \u001b[32m━━━━━━━━━━━━━━━━━━━━\u001b[0m\u001b[37m\u001b[0m \u001b[1m0s\u001b[0m 12s/step - accuracy: 0.8875 - loss: 0.1958 \n",
            "Epoch 11: val_loss improved from 0.48220 to 0.47035, saving model to best_model.h5\n"
          ]
        },
        {
          "metadata": {
            "tags": null
          },
          "name": "stderr",
          "output_type": "stream",
          "text": [
            "WARNING:absl:You are saving your model as an HDF5 file via `model.save()` or `keras.saving.save_model(model)`. This file format is considered legacy. We recommend using instead the native Keras format, e.g. `model.save('my_model.keras')` or `keras.saving.save_model(model, 'my_model.keras')`. \n"
          ]
        },
        {
          "metadata": {
            "tags": null
          },
          "name": "stdout",
          "output_type": "stream",
          "text": [
            "\u001b[1m80/80\u001b[0m \u001b[32m━━━━━━━━━━━━━━━━━━━━\u001b[0m\u001b[37m\u001b[0m \u001b[1m1091s\u001b[0m 14s/step - accuracy: 0.8876 - loss: 0.1959 - val_accuracy: 0.8526 - val_loss: 0.4704 - learning_rate: 5.0000e-05\n",
            "Epoch 12/100\n",
            "\u001b[1m80/80\u001b[0m \u001b[32m━━━━━━━━━━━━━━━━━━━━\u001b[0m\u001b[37m\u001b[0m \u001b[1m0s\u001b[0m 12s/step - accuracy: 0.8975 - loss: 0.2198 \n",
            "Epoch 12: val_loss did not improve from 0.47035\n",
            "\u001b[1m80/80\u001b[0m \u001b[32m━━━━━━━━━━━━━━━━━━━━\u001b[0m\u001b[37m\u001b[0m \u001b[1m1134s\u001b[0m 14s/step - accuracy: 0.8976 - loss: 0.2195 - val_accuracy: 0.8494 - val_loss: 0.4716 - learning_rate: 5.0000e-05\n",
            "Epoch 13/100\n",
            "\u001b[1m80/80\u001b[0m \u001b[32m━━━━━━━━━━━━━━━━━━━━\u001b[0m\u001b[37m\u001b[0m \u001b[1m0s\u001b[0m 12s/step - accuracy: 0.9052 - loss: 0.1694 \n",
            "Epoch 13: val_loss did not improve from 0.47035\n",
            "\u001b[1m80/80\u001b[0m \u001b[32m━━━━━━━━━━━━━━━━━━━━\u001b[0m\u001b[37m\u001b[0m \u001b[1m1090s\u001b[0m 14s/step - accuracy: 0.9052 - loss: 0.1695 - val_accuracy: 0.8431 - val_loss: 0.4708 - learning_rate: 5.0000e-05\n",
            "Epoch 14/100\n",
            "\u001b[1m80/80\u001b[0m \u001b[32m━━━━━━━━━━━━━━━━━━━━\u001b[0m\u001b[37m\u001b[0m \u001b[1m0s\u001b[0m 12s/step - accuracy: 0.9010 - loss: 0.1530 \n",
            "Epoch 14: val_loss improved from 0.47035 to 0.41683, saving model to best_model.h5\n"
          ]
        },
        {
          "metadata": {
            "tags": null
          },
          "name": "stderr",
          "output_type": "stream",
          "text": [
            "WARNING:absl:You are saving your model as an HDF5 file via `model.save()` or `keras.saving.save_model(model)`. This file format is considered legacy. We recommend using instead the native Keras format, e.g. `model.save('my_model.keras')` or `keras.saving.save_model(model, 'my_model.keras')`. \n"
          ]
        },
        {
          "metadata": {
            "tags": null
          },
          "name": "stdout",
          "output_type": "stream",
          "text": [
            "\u001b[1m80/80\u001b[0m \u001b[32m━━━━━━━━━━━━━━━━━━━━\u001b[0m\u001b[37m\u001b[0m \u001b[1m1090s\u001b[0m 14s/step - accuracy: 0.9012 - loss: 0.1528 - val_accuracy: 0.8653 - val_loss: 0.4168 - learning_rate: 5.0000e-05\n",
            "Epoch 15/100\n",
            "\u001b[1m80/80\u001b[0m \u001b[32m━━━━━━━━━━━━━━━━━━━━\u001b[0m\u001b[37m\u001b[0m \u001b[1m0s\u001b[0m 12s/step - accuracy: 0.9301 - loss: 0.1104 \n",
            "Epoch 15: val_loss improved from 0.41683 to 0.37826, saving model to best_model.h5\n"
          ]
        },
        {
          "metadata": {
            "tags": null
          },
          "name": "stderr",
          "output_type": "stream",
          "text": [
            "WARNING:absl:You are saving your model as an HDF5 file via `model.save()` or `keras.saving.save_model(model)`. This file format is considered legacy. We recommend using instead the native Keras format, e.g. `model.save('my_model.keras')` or `keras.saving.save_model(model, 'my_model.keras')`. \n"
          ]
        },
        {
          "metadata": {
            "tags": null
          },
          "name": "stdout",
          "output_type": "stream",
          "text": [
            "\u001b[1m80/80\u001b[0m \u001b[32m━━━━━━━━━━━━━━━━━━━━\u001b[0m\u001b[37m\u001b[0m \u001b[1m1099s\u001b[0m 14s/step - accuracy: 0.9301 - loss: 0.1105 - val_accuracy: 0.8796 - val_loss: 0.3783 - learning_rate: 5.0000e-05\n",
            "Epoch 16/100\n",
            "\u001b[1m80/80\u001b[0m \u001b[32m━━━━━━━━━━━━━━━━━━━━\u001b[0m\u001b[37m\u001b[0m \u001b[1m0s\u001b[0m 12s/step - accuracy: 0.9306 - loss: 0.1133 \n",
            "Epoch 16: val_loss did not improve from 0.37826\n",
            "\u001b[1m80/80\u001b[0m \u001b[32m━━━━━━━━━━━━━━━━━━━━\u001b[0m\u001b[37m\u001b[0m \u001b[1m1088s\u001b[0m 14s/step - accuracy: 0.9307 - loss: 0.1133 - val_accuracy: 0.8716 - val_loss: 0.4056 - learning_rate: 5.0000e-05\n",
            "Epoch 17/100\n",
            "\u001b[1m80/80\u001b[0m \u001b[32m━━━━━━━━━━━━━━━━━━━━\u001b[0m\u001b[37m\u001b[0m \u001b[1m0s\u001b[0m 12s/step - accuracy: 0.9220 - loss: 0.1244 \n",
            "Epoch 17: val_loss did not improve from 0.37826\n",
            "\u001b[1m80/80\u001b[0m \u001b[32m━━━━━━━━━━━━━━━━━━━━\u001b[0m\u001b[37m\u001b[0m \u001b[1m1127s\u001b[0m 14s/step - accuracy: 0.9221 - loss: 0.1244 - val_accuracy: 0.8605 - val_loss: 0.4351 - learning_rate: 5.0000e-05\n",
            "Epoch 18/100\n",
            "\u001b[1m80/80\u001b[0m \u001b[32m━━━━━━━━━━━━━━━━━━━━\u001b[0m\u001b[37m\u001b[0m \u001b[1m0s\u001b[0m 12s/step - accuracy: 0.9325 - loss: 0.0999 \n",
            "Epoch 18: val_loss did not improve from 0.37826\n",
            "\u001b[1m80/80\u001b[0m \u001b[32m━━━━━━━━━━━━━━━━━━━━\u001b[0m\u001b[37m\u001b[0m \u001b[1m1090s\u001b[0m 14s/step - accuracy: 0.9324 - loss: 0.0999 - val_accuracy: 0.8859 - val_loss: 0.3900 - learning_rate: 5.0000e-05\n",
            "Epoch 19/100\n",
            "\u001b[1m80/80\u001b[0m \u001b[32m━━━━━━━━━━━━━━━━━━━━\u001b[0m\u001b[37m\u001b[0m \u001b[1m0s\u001b[0m 12s/step - accuracy: 0.9518 - loss: 0.0864 \n",
            "Epoch 19: ReduceLROnPlateau reducing learning rate to 2.499999936844688e-05.\n",
            "\n",
            "Epoch 19: val_loss did not improve from 0.37826\n",
            "\u001b[1m80/80\u001b[0m \u001b[32m━━━━━━━━━━━━━━━━━━━━\u001b[0m\u001b[37m\u001b[0m \u001b[1m1100s\u001b[0m 14s/step - accuracy: 0.9518 - loss: 0.0864 - val_accuracy: 0.8764 - val_loss: 0.4306 - learning_rate: 5.0000e-05\n",
            "Epoch 20/100\n",
            "\u001b[1m80/80\u001b[0m \u001b[32m━━━━━━━━━━━━━━━━━━━━\u001b[0m\u001b[37m\u001b[0m \u001b[1m0s\u001b[0m 12s/step - accuracy: 0.9499 - loss: 0.0981 \n",
            "Epoch 20: val_loss did not improve from 0.37826\n",
            "\u001b[1m80/80\u001b[0m \u001b[32m━━━━━━━━━━━━━━━━━━━━\u001b[0m\u001b[37m\u001b[0m \u001b[1m1141s\u001b[0m 14s/step - accuracy: 0.9498 - loss: 0.0982 - val_accuracy: 0.8875 - val_loss: 0.3899 - learning_rate: 2.5000e-05\n",
            "Epoch 21/100\n",
            "\u001b[1m80/80\u001b[0m \u001b[32m━━━━━━━━━━━━━━━━━━━━\u001b[0m\u001b[37m\u001b[0m \u001b[1m0s\u001b[0m 12s/step - accuracy: 0.9485 - loss: 0.0805 \n",
            "Epoch 21: val_loss did not improve from 0.37826\n",
            "\u001b[1m80/80\u001b[0m \u001b[32m━━━━━━━━━━━━━━━━━━━━\u001b[0m\u001b[37m\u001b[0m \u001b[1m1086s\u001b[0m 14s/step - accuracy: 0.9485 - loss: 0.0806 - val_accuracy: 0.8906 - val_loss: 0.4022 - learning_rate: 2.5000e-05\n",
            "Epoch 22/100\n",
            "\u001b[1m80/80\u001b[0m \u001b[32m━━━━━━━━━━━━━━━━━━━━\u001b[0m\u001b[37m\u001b[0m \u001b[1m0s\u001b[0m 12s/step - accuracy: 0.9505 - loss: 0.0759 \n",
            "Epoch 22: val_loss improved from 0.37826 to 0.33957, saving model to best_model.h5\n"
          ]
        },
        {
          "metadata": {
            "tags": null
          },
          "name": "stderr",
          "output_type": "stream",
          "text": [
            "WARNING:absl:You are saving your model as an HDF5 file via `model.save()` or `keras.saving.save_model(model)`. This file format is considered legacy. We recommend using instead the native Keras format, e.g. `model.save('my_model.keras')` or `keras.saving.save_model(model, 'my_model.keras')`. \n"
          ]
        },
        {
          "output_type": "stream",
          "name": "stdout",
          "text": [
            "\u001b[1m80/80\u001b[0m \u001b[32m━━━━━━━━━━━━━━━━━━━━\u001b[0m\u001b[37m\u001b[0m \u001b[1m1095s\u001b[0m 14s/step - accuracy: 0.9505 - loss: 0.0759 - val_accuracy: 0.9002 - val_loss: 0.3396 - learning_rate: 2.5000e-05\n",
            "Epoch 23/100\n",
            "\u001b[1m80/80\u001b[0m \u001b[32m━━━━━━━━━━━━━━━━━━━━\u001b[0m\u001b[37m\u001b[0m \u001b[1m0s\u001b[0m 12s/step - accuracy: 0.9584 - loss: 0.0674 \n",
            "Epoch 23: val_loss did not improve from 0.33957\n",
            "\u001b[1m80/80\u001b[0m \u001b[32m━━━━━━━━━━━━━━━━━━━━\u001b[0m\u001b[37m\u001b[0m \u001b[1m1095s\u001b[0m 14s/step - accuracy: 0.9584 - loss: 0.0674 - val_accuracy: 0.8891 - val_loss: 0.4013 - learning_rate: 2.5000e-05\n",
            "Epoch 24/100\n",
            "\u001b[1m80/80\u001b[0m \u001b[32m━━━━━━━━━━━━━━━━━━━━\u001b[0m\u001b[37m\u001b[0m \u001b[1m0s\u001b[0m 12s/step - accuracy: 0.9702 - loss: 0.0573 \n",
            "Epoch 24: val_loss did not improve from 0.33957\n",
            "\u001b[1m80/80\u001b[0m \u001b[32m━━━━━━━━━━━━━━━━━━━━\u001b[0m\u001b[37m\u001b[0m \u001b[1m1088s\u001b[0m 14s/step - accuracy: 0.9701 - loss: 0.0574 - val_accuracy: 0.8875 - val_loss: 0.3842 - learning_rate: 2.5000e-05\n",
            "Epoch 25/100\n",
            "\u001b[1m80/80\u001b[0m \u001b[32m━━━━━━━━━━━━━━━━━━━━\u001b[0m\u001b[37m\u001b[0m \u001b[1m0s\u001b[0m 12s/step - accuracy: 0.9658 - loss: 0.0614 \n",
            "Epoch 25: val_loss did not improve from 0.33957\n",
            "\u001b[1m80/80\u001b[0m \u001b[32m━━━━━━━━━━━━━━━━━━━━\u001b[0m\u001b[37m\u001b[0m \u001b[1m1083s\u001b[0m 14s/step - accuracy: 0.9657 - loss: 0.0614 - val_accuracy: 0.8970 - val_loss: 0.3684 - learning_rate: 2.5000e-05\n",
            "Epoch 26/100\n",
            "\u001b[1m80/80\u001b[0m \u001b[32m━━━━━━━━━━━━━━━━━━━━\u001b[0m\u001b[37m\u001b[0m \u001b[1m0s\u001b[0m 12s/step - accuracy: 0.9710 - loss: 0.0492 \n",
            "Epoch 26: ReduceLROnPlateau reducing learning rate to 1.249999968422344e-05.\n",
            "\n",
            "Epoch 26: val_loss did not improve from 0.33957\n",
            "\u001b[1m80/80\u001b[0m \u001b[32m━━━━━━━━━━━━━━━━━━━━\u001b[0m\u001b[37m\u001b[0m \u001b[1m1087s\u001b[0m 14s/step - accuracy: 0.9708 - loss: 0.0494 - val_accuracy: 0.9017 - val_loss: 0.3489 - learning_rate: 2.5000e-05\n",
            "Epoch 27/100\n",
            "\u001b[1m80/80\u001b[0m \u001b[32m━━━━━━━━━━━━━━━━━━━━\u001b[0m\u001b[37m\u001b[0m \u001b[1m0s\u001b[0m 12s/step - accuracy: 0.9666 - loss: 0.0744 \n",
            "Epoch 27: val_loss did not improve from 0.33957\n",
            "\u001b[1m80/80\u001b[0m \u001b[32m━━━━━━━━━━━━━━━━━━━━\u001b[0m\u001b[37m\u001b[0m \u001b[1m1080s\u001b[0m 14s/step - accuracy: 0.9665 - loss: 0.0744 - val_accuracy: 0.8827 - val_loss: 0.3818 - learning_rate: 1.2500e-05\n",
            "Epoch 28/100\n",
            "\u001b[1m80/80\u001b[0m \u001b[32m━━━━━━━━━━━━━━━━━━━━\u001b[0m\u001b[37m\u001b[0m \u001b[1m0s\u001b[0m 12s/step - accuracy: 0.9703 - loss: 0.0544 \n",
            "Epoch 28: val_loss did not improve from 0.33957\n",
            "\u001b[1m80/80\u001b[0m \u001b[32m━━━━━━━━━━━━━━━━━━━━\u001b[0m\u001b[37m\u001b[0m \u001b[1m1084s\u001b[0m 14s/step - accuracy: 0.9703 - loss: 0.0544 - val_accuracy: 0.8859 - val_loss: 0.3624 - learning_rate: 1.2500e-05\n",
            "Epoch 29/100\n",
            "\u001b[1m80/80\u001b[0m \u001b[32m━━━━━━━━━━━━━━━━━━━━\u001b[0m\u001b[37m\u001b[0m \u001b[1m0s\u001b[0m 12s/step - accuracy: 0.9716 - loss: 0.0486 \n",
            "Epoch 29: val_loss did not improve from 0.33957\n",
            "\u001b[1m80/80\u001b[0m \u001b[32m━━━━━━━━━━━━━━━━━━━━\u001b[0m\u001b[37m\u001b[0m \u001b[1m1079s\u001b[0m 13s/step - accuracy: 0.9716 - loss: 0.0487 - val_accuracy: 0.8938 - val_loss: 0.3938 - learning_rate: 1.2500e-05\n",
            "Epoch 29: early stopping\n",
            "Restoring model weights from the end of the best epoch: 22.\n"
          ]
        }
      ],
      "source": [
        "# callbacks\n",
        "early_stop = EarlyStopping(monitor='val_loss', patience=7, restore_best_weights=True, verbose=1)\n",
        "reduce_lr = ReduceLROnPlateau(monitor='val_loss', factor=0.5, patience=4, min_lr=1e-6, verbose=1)\n",
        "checkpoint = ModelCheckpoint(\"best_model.h5\", monitor='val_loss', save_best_only=True, verbose=1)\n",
        "\n",
        "history1 = model.fit(\n",
        "    train_gen,\n",
        "    validation_data=val_gen,\n",
        "    epochs=10,\n",
        "    callbacks=[early_stop, reduce_lr, checkpoint],\n",
        "    class_weight=class_weights_dict\n",
        ")\n",
        "\n",
        "# === Phase 2: fine-tuning ===\n",
        "base_model.trainable = True\n",
        "for layer in base_model.layers[:100]:  # Gèle partiellement\n",
        "    layer.trainable = False\n",
        "\n",
        "model.compile(\n",
        "    optimizer=Adam(learning_rate=1e-4),\n",
        "    loss='categorical_crossentropy',\n",
        "    metrics=['accuracy']\n",
        ")\n",
        "\n",
        "history2 = model.fit(\n",
        "    train_gen,\n",
        "    validation_data=val_gen,\n",
        "    epochs=100,\n",
        "    callbacks=[early_stop, reduce_lr, checkpoint],\n",
        "    class_weight=class_weights_dict\n",
        ")"
      ]
    },
    {
      "cell_type": "code",
      "source": [
        "model.save(\"my_model.keras\")"
      ],
      "metadata": {
        "id": "OK808fsitPuu"
      },
      "execution_count": 12,
      "outputs": []
    },
    {
      "cell_type": "code",
      "source": [
        "model.export(\"my_model_tf\")"
      ],
      "metadata": {
        "colab": {
          "base_uri": "https://localhost:8080/"
        },
        "id": "amS75V620OQ-",
        "outputId": "f9d57c2e-e8c2-4028-cb21-a2a38945456c"
      },
      "execution_count": 16,
      "outputs": [
        {
          "output_type": "stream",
          "name": "stdout",
          "text": [
            "Saved artifact at 'my_model_tf'. The following endpoints are available:\n",
            "\n",
            "* Endpoint 'serve'\n",
            "  args_0 (POSITIONAL_ONLY): TensorSpec(shape=(None, 224, 224, 3), dtype=tf.float32, name='keras_tensor')\n",
            "Output Type:\n",
            "  TensorSpec(shape=(None, 8), dtype=tf.float32, name=None)\n",
            "Captures:\n",
            "  136062840011856: TensorSpec(shape=(), dtype=tf.resource, name=None)\n",
            "  136062833068176: TensorSpec(shape=(), dtype=tf.resource, name=None)\n",
            "  136062833066256: TensorSpec(shape=(), dtype=tf.resource, name=None)\n",
            "  136062833067408: TensorSpec(shape=(), dtype=tf.resource, name=None)\n",
            "  136062833067792: TensorSpec(shape=(), dtype=tf.resource, name=None)\n",
            "  136062833068752: TensorSpec(shape=(), dtype=tf.resource, name=None)\n",
            "  136062833068368: TensorSpec(shape=(), dtype=tf.resource, name=None)\n",
            "  136062840011664: TensorSpec(shape=(), dtype=tf.resource, name=None)\n",
            "  136062840011472: TensorSpec(shape=(), dtype=tf.resource, name=None)\n",
            "  136062833070096: TensorSpec(shape=(), dtype=tf.resource, name=None)\n",
            "  136062833072016: TensorSpec(shape=(), dtype=tf.resource, name=None)\n",
            "  136062833070672: TensorSpec(shape=(), dtype=tf.resource, name=None)\n",
            "  136062833071056: TensorSpec(shape=(), dtype=tf.resource, name=None)\n",
            "  136062833069904: TensorSpec(shape=(), dtype=tf.resource, name=None)\n",
            "  136062833071440: TensorSpec(shape=(), dtype=tf.resource, name=None)\n",
            "  136062833074128: TensorSpec(shape=(), dtype=tf.resource, name=None)\n",
            "  136062833073744: TensorSpec(shape=(), dtype=tf.resource, name=None)\n",
            "  136062833074320: TensorSpec(shape=(), dtype=tf.resource, name=None)\n",
            "  136062833074704: TensorSpec(shape=(), dtype=tf.resource, name=None)\n",
            "  136062833076048: TensorSpec(shape=(), dtype=tf.resource, name=None)\n",
            "  136062833075664: TensorSpec(shape=(), dtype=tf.resource, name=None)\n",
            "  136062833075280: TensorSpec(shape=(), dtype=tf.resource, name=None)\n",
            "  136062833076240: TensorSpec(shape=(), dtype=tf.resource, name=None)\n",
            "  136062833074896: TensorSpec(shape=(), dtype=tf.resource, name=None)\n",
            "  136062833078352: TensorSpec(shape=(), dtype=tf.resource, name=None)\n",
            "  136062833078736: TensorSpec(shape=(), dtype=tf.resource, name=None)\n",
            "  136062833079120: TensorSpec(shape=(), dtype=tf.resource, name=None)\n",
            "  136062833078928: TensorSpec(shape=(), dtype=tf.resource, name=None)\n",
            "  136062833074512: TensorSpec(shape=(), dtype=tf.resource, name=None)\n",
            "  136062833080272: TensorSpec(shape=(), dtype=tf.resource, name=None)\n",
            "  136062833080656: TensorSpec(shape=(), dtype=tf.resource, name=None)\n",
            "  136062833081040: TensorSpec(shape=(), dtype=tf.resource, name=None)\n",
            "  136062833080848: TensorSpec(shape=(), dtype=tf.resource, name=None)\n",
            "  136062833077200: TensorSpec(shape=(), dtype=tf.resource, name=None)\n",
            "  136062833082192: TensorSpec(shape=(), dtype=tf.resource, name=None)\n",
            "  136062833077968: TensorSpec(shape=(), dtype=tf.resource, name=None)\n",
            "  136062833492048: TensorSpec(shape=(), dtype=tf.resource, name=None)\n",
            "  136062833081808: TensorSpec(shape=(), dtype=tf.resource, name=None)\n",
            "  136062833079888: TensorSpec(shape=(), dtype=tf.resource, name=None)\n",
            "  136062833493776: TensorSpec(shape=(), dtype=tf.resource, name=None)\n",
            "  136062833494160: TensorSpec(shape=(), dtype=tf.resource, name=None)\n",
            "  136062833494544: TensorSpec(shape=(), dtype=tf.resource, name=None)\n",
            "  136062833494352: TensorSpec(shape=(), dtype=tf.resource, name=None)\n",
            "  136062833493008: TensorSpec(shape=(), dtype=tf.resource, name=None)\n",
            "  136062833492432: TensorSpec(shape=(), dtype=tf.resource, name=None)\n",
            "  136062833496272: TensorSpec(shape=(), dtype=tf.resource, name=None)\n",
            "  136062833496656: TensorSpec(shape=(), dtype=tf.resource, name=None)\n",
            "  136062833496464: TensorSpec(shape=(), dtype=tf.resource, name=None)\n",
            "  136062833492816: TensorSpec(shape=(), dtype=tf.resource, name=None)\n",
            "  136062833495312: TensorSpec(shape=(), dtype=tf.resource, name=None)\n",
            "  136062833498384: TensorSpec(shape=(), dtype=tf.resource, name=None)\n",
            "  136062833498768: TensorSpec(shape=(), dtype=tf.resource, name=None)\n",
            "  136062833498576: TensorSpec(shape=(), dtype=tf.resource, name=None)\n",
            "  136062833495696: TensorSpec(shape=(), dtype=tf.resource, name=None)\n",
            "  136062833499920: TensorSpec(shape=(), dtype=tf.resource, name=None)\n",
            "  136062833500304: TensorSpec(shape=(), dtype=tf.resource, name=None)\n",
            "  136062833500688: TensorSpec(shape=(), dtype=tf.resource, name=None)\n",
            "  136062833500496: TensorSpec(shape=(), dtype=tf.resource, name=None)\n",
            "  136062833497424: TensorSpec(shape=(), dtype=tf.resource, name=None)\n",
            "  136062833501840: TensorSpec(shape=(), dtype=tf.resource, name=None)\n",
            "  136062833502224: TensorSpec(shape=(), dtype=tf.resource, name=None)\n",
            "  136062833502608: TensorSpec(shape=(), dtype=tf.resource, name=None)\n",
            "  136062833502416: TensorSpec(shape=(), dtype=tf.resource, name=None)\n",
            "  136062833498000: TensorSpec(shape=(), dtype=tf.resource, name=None)\n",
            "  136062833503760: TensorSpec(shape=(), dtype=tf.resource, name=None)\n",
            "  136062833504144: TensorSpec(shape=(), dtype=tf.resource, name=None)\n",
            "  136062833504528: TensorSpec(shape=(), dtype=tf.resource, name=None)\n",
            "  136062833504336: TensorSpec(shape=(), dtype=tf.resource, name=None)\n",
            "  136062833499536: TensorSpec(shape=(), dtype=tf.resource, name=None)\n",
            "  136062833505680: TensorSpec(shape=(), dtype=tf.resource, name=None)\n",
            "  136062833506064: TensorSpec(shape=(), dtype=tf.resource, name=None)\n",
            "  136062833506448: TensorSpec(shape=(), dtype=tf.resource, name=None)\n",
            "  136062833506256: TensorSpec(shape=(), dtype=tf.resource, name=None)\n",
            "  136062833501456: TensorSpec(shape=(), dtype=tf.resource, name=None)\n",
            "  136062833507600: TensorSpec(shape=(), dtype=tf.resource, name=None)\n",
            "  136062833508176: TensorSpec(shape=(), dtype=tf.resource, name=None)\n",
            "  136062833506832: TensorSpec(shape=(), dtype=tf.resource, name=None)\n",
            "  136062833507984: TensorSpec(shape=(), dtype=tf.resource, name=None)\n",
            "  136062833505296: TensorSpec(shape=(), dtype=tf.resource, name=None)\n",
            "  136062830952720: TensorSpec(shape=(), dtype=tf.resource, name=None)\n",
            "  136062830954064: TensorSpec(shape=(), dtype=tf.resource, name=None)\n",
            "  136062830954448: TensorSpec(shape=(), dtype=tf.resource, name=None)\n",
            "  136062830954256: TensorSpec(shape=(), dtype=tf.resource, name=None)\n",
            "  136062830952912: TensorSpec(shape=(), dtype=tf.resource, name=None)\n",
            "  136062830955600: TensorSpec(shape=(), dtype=tf.resource, name=None)\n",
            "  136062830955984: TensorSpec(shape=(), dtype=tf.resource, name=None)\n",
            "  136062830956368: TensorSpec(shape=(), dtype=tf.resource, name=None)\n",
            "  136062830956176: TensorSpec(shape=(), dtype=tf.resource, name=None)\n",
            "  136062830953488: TensorSpec(shape=(), dtype=tf.resource, name=None)\n",
            "  136062830957520: TensorSpec(shape=(), dtype=tf.resource, name=None)\n",
            "  136062830957904: TensorSpec(shape=(), dtype=tf.resource, name=None)\n",
            "  136062830958288: TensorSpec(shape=(), dtype=tf.resource, name=None)\n",
            "  136062830958096: TensorSpec(shape=(), dtype=tf.resource, name=None)\n",
            "  136062830953680: TensorSpec(shape=(), dtype=tf.resource, name=None)\n",
            "  136062830959440: TensorSpec(shape=(), dtype=tf.resource, name=None)\n",
            "  136062830959824: TensorSpec(shape=(), dtype=tf.resource, name=None)\n",
            "  136062830960208: TensorSpec(shape=(), dtype=tf.resource, name=None)\n",
            "  136062830960016: TensorSpec(shape=(), dtype=tf.resource, name=None)\n",
            "  136062830955216: TensorSpec(shape=(), dtype=tf.resource, name=None)\n",
            "  136062830961360: TensorSpec(shape=(), dtype=tf.resource, name=None)\n",
            "  136062830961744: TensorSpec(shape=(), dtype=tf.resource, name=None)\n",
            "  136062830962128: TensorSpec(shape=(), dtype=tf.resource, name=None)\n",
            "  136062830961936: TensorSpec(shape=(), dtype=tf.resource, name=None)\n",
            "  136062830957136: TensorSpec(shape=(), dtype=tf.resource, name=None)\n",
            "  136062830963280: TensorSpec(shape=(), dtype=tf.resource, name=None)\n",
            "  136062830963664: TensorSpec(shape=(), dtype=tf.resource, name=None)\n",
            "  136062830964048: TensorSpec(shape=(), dtype=tf.resource, name=None)\n",
            "  136062830963856: TensorSpec(shape=(), dtype=tf.resource, name=None)\n",
            "  136062830959056: TensorSpec(shape=(), dtype=tf.resource, name=None)\n",
            "  136062830965200: TensorSpec(shape=(), dtype=tf.resource, name=None)\n",
            "  136062830965584: TensorSpec(shape=(), dtype=tf.resource, name=None)\n",
            "  136062830965968: TensorSpec(shape=(), dtype=tf.resource, name=None)\n",
            "  136062830965776: TensorSpec(shape=(), dtype=tf.resource, name=None)\n",
            "  136062830960976: TensorSpec(shape=(), dtype=tf.resource, name=None)\n",
            "  136062830967120: TensorSpec(shape=(), dtype=tf.resource, name=None)\n",
            "  136062830967504: TensorSpec(shape=(), dtype=tf.resource, name=None)\n",
            "  136062830967888: TensorSpec(shape=(), dtype=tf.resource, name=None)\n",
            "  136062830967696: TensorSpec(shape=(), dtype=tf.resource, name=None)\n",
            "  136062830962896: TensorSpec(shape=(), dtype=tf.resource, name=None)\n",
            "  136062830966352: TensorSpec(shape=(), dtype=tf.resource, name=None)\n",
            "  136062831346320: TensorSpec(shape=(), dtype=tf.resource, name=None)\n",
            "  136062831345744: TensorSpec(shape=(), dtype=tf.resource, name=None)\n",
            "  136062830968656: TensorSpec(shape=(), dtype=tf.resource, name=None)\n",
            "  136062830964816: TensorSpec(shape=(), dtype=tf.resource, name=None)\n",
            "  136062831347856: TensorSpec(shape=(), dtype=tf.resource, name=None)\n",
            "  136062831348240: TensorSpec(shape=(), dtype=tf.resource, name=None)\n",
            "  136062831348624: TensorSpec(shape=(), dtype=tf.resource, name=None)\n",
            "  136062831348432: TensorSpec(shape=(), dtype=tf.resource, name=None)\n",
            "  136062831345936: TensorSpec(shape=(), dtype=tf.resource, name=None)\n",
            "  136062831349776: TensorSpec(shape=(), dtype=tf.resource, name=None)\n",
            "  136062831350160: TensorSpec(shape=(), dtype=tf.resource, name=None)\n",
            "  136062831350544: TensorSpec(shape=(), dtype=tf.resource, name=None)\n",
            "  136062831350352: TensorSpec(shape=(), dtype=tf.resource, name=None)\n",
            "  136062831346512: TensorSpec(shape=(), dtype=tf.resource, name=None)\n",
            "  136062831351696: TensorSpec(shape=(), dtype=tf.resource, name=None)\n",
            "  136062831352080: TensorSpec(shape=(), dtype=tf.resource, name=None)\n",
            "  136062831352464: TensorSpec(shape=(), dtype=tf.resource, name=None)\n",
            "  136062831352272: TensorSpec(shape=(), dtype=tf.resource, name=None)\n",
            "  136062831347472: TensorSpec(shape=(), dtype=tf.resource, name=None)\n",
            "  136062831353616: TensorSpec(shape=(), dtype=tf.resource, name=None)\n",
            "  136062831354000: TensorSpec(shape=(), dtype=tf.resource, name=None)\n",
            "  136062831354384: TensorSpec(shape=(), dtype=tf.resource, name=None)\n",
            "  136062831354192: TensorSpec(shape=(), dtype=tf.resource, name=None)\n",
            "  136062831349392: TensorSpec(shape=(), dtype=tf.resource, name=None)\n",
            "  136062831355536: TensorSpec(shape=(), dtype=tf.resource, name=None)\n",
            "  136062831355920: TensorSpec(shape=(), dtype=tf.resource, name=None)\n",
            "  136062831356304: TensorSpec(shape=(), dtype=tf.resource, name=None)\n",
            "  136062831356112: TensorSpec(shape=(), dtype=tf.resource, name=None)\n",
            "  136062831351312: TensorSpec(shape=(), dtype=tf.resource, name=None)\n",
            "  136062831357456: TensorSpec(shape=(), dtype=tf.resource, name=None)\n",
            "  136062831357840: TensorSpec(shape=(), dtype=tf.resource, name=None)\n",
            "  136062831358224: TensorSpec(shape=(), dtype=tf.resource, name=None)\n",
            "  136062831358032: TensorSpec(shape=(), dtype=tf.resource, name=None)\n",
            "  136062831353232: TensorSpec(shape=(), dtype=tf.resource, name=None)\n",
            "  136062831359376: TensorSpec(shape=(), dtype=tf.resource, name=None)\n",
            "  136062831359760: TensorSpec(shape=(), dtype=tf.resource, name=None)\n",
            "  136062831360144: TensorSpec(shape=(), dtype=tf.resource, name=None)\n",
            "  136062831359952: TensorSpec(shape=(), dtype=tf.resource, name=None)\n",
            "  136062831355152: TensorSpec(shape=(), dtype=tf.resource, name=None)\n",
            "  136062831361296: TensorSpec(shape=(), dtype=tf.resource, name=None)\n",
            "  136062831361872: TensorSpec(shape=(), dtype=tf.resource, name=None)\n",
            "  136062831360528: TensorSpec(shape=(), dtype=tf.resource, name=None)\n",
            "  136062831361680: TensorSpec(shape=(), dtype=tf.resource, name=None)\n",
            "  136062831358992: TensorSpec(shape=(), dtype=tf.resource, name=None)\n",
            "  136062829723920: TensorSpec(shape=(), dtype=tf.resource, name=None)\n",
            "  136062829725264: TensorSpec(shape=(), dtype=tf.resource, name=None)\n",
            "  136062829725648: TensorSpec(shape=(), dtype=tf.resource, name=None)\n",
            "  136062829725456: TensorSpec(shape=(), dtype=tf.resource, name=None)\n",
            "  136062829724112: TensorSpec(shape=(), dtype=tf.resource, name=None)\n",
            "  136062829726800: TensorSpec(shape=(), dtype=tf.resource, name=None)\n",
            "  136062829727184: TensorSpec(shape=(), dtype=tf.resource, name=None)\n",
            "  136062829727568: TensorSpec(shape=(), dtype=tf.resource, name=None)\n",
            "  136062829727376: TensorSpec(shape=(), dtype=tf.resource, name=None)\n",
            "  136062829724688: TensorSpec(shape=(), dtype=tf.resource, name=None)\n",
            "  136062829728720: TensorSpec(shape=(), dtype=tf.resource, name=None)\n",
            "  136062829729104: TensorSpec(shape=(), dtype=tf.resource, name=None)\n",
            "  136062829729488: TensorSpec(shape=(), dtype=tf.resource, name=None)\n",
            "  136062829729296: TensorSpec(shape=(), dtype=tf.resource, name=None)\n",
            "  136062829724880: TensorSpec(shape=(), dtype=tf.resource, name=None)\n",
            "  136062829730640: TensorSpec(shape=(), dtype=tf.resource, name=None)\n",
            "  136062829731024: TensorSpec(shape=(), dtype=tf.resource, name=None)\n",
            "  136062829731408: TensorSpec(shape=(), dtype=tf.resource, name=None)\n",
            "  136062829731216: TensorSpec(shape=(), dtype=tf.resource, name=None)\n",
            "  136062829726416: TensorSpec(shape=(), dtype=tf.resource, name=None)\n",
            "  136062829732560: TensorSpec(shape=(), dtype=tf.resource, name=None)\n",
            "  136062829732944: TensorSpec(shape=(), dtype=tf.resource, name=None)\n",
            "  136062829733328: TensorSpec(shape=(), dtype=tf.resource, name=None)\n",
            "  136062829733136: TensorSpec(shape=(), dtype=tf.resource, name=None)\n",
            "  136062829728336: TensorSpec(shape=(), dtype=tf.resource, name=None)\n",
            "  136062829734480: TensorSpec(shape=(), dtype=tf.resource, name=None)\n",
            "  136062829734864: TensorSpec(shape=(), dtype=tf.resource, name=None)\n",
            "  136062829735248: TensorSpec(shape=(), dtype=tf.resource, name=None)\n",
            "  136062829735056: TensorSpec(shape=(), dtype=tf.resource, name=None)\n",
            "  136062829730256: TensorSpec(shape=(), dtype=tf.resource, name=None)\n",
            "  136062829736400: TensorSpec(shape=(), dtype=tf.resource, name=None)\n",
            "  136062829736784: TensorSpec(shape=(), dtype=tf.resource, name=None)\n",
            "  136062829737168: TensorSpec(shape=(), dtype=tf.resource, name=None)\n",
            "  136062829736976: TensorSpec(shape=(), dtype=tf.resource, name=None)\n",
            "  136062829732176: TensorSpec(shape=(), dtype=tf.resource, name=None)\n",
            "  136062829738320: TensorSpec(shape=(), dtype=tf.resource, name=None)\n",
            "  136062829738704: TensorSpec(shape=(), dtype=tf.resource, name=None)\n",
            "  136062829739088: TensorSpec(shape=(), dtype=tf.resource, name=None)\n",
            "  136062829738896: TensorSpec(shape=(), dtype=tf.resource, name=None)\n",
            "  136062829734096: TensorSpec(shape=(), dtype=tf.resource, name=None)\n",
            "  136062829737552: TensorSpec(shape=(), dtype=tf.resource, name=None)\n",
            "  136062830133520: TensorSpec(shape=(), dtype=tf.resource, name=None)\n",
            "  136062830134288: TensorSpec(shape=(), dtype=tf.resource, name=None)\n",
            "  136062829739856: TensorSpec(shape=(), dtype=tf.resource, name=None)\n",
            "  136062829736016: TensorSpec(shape=(), dtype=tf.resource, name=None)\n",
            "  136062830135440: TensorSpec(shape=(), dtype=tf.resource, name=None)\n",
            "  136062830135824: TensorSpec(shape=(), dtype=tf.resource, name=None)\n",
            "  136062830136208: TensorSpec(shape=(), dtype=tf.resource, name=None)\n",
            "  136062830136016: TensorSpec(shape=(), dtype=tf.resource, name=None)\n",
            "  136062830134096: TensorSpec(shape=(), dtype=tf.resource, name=None)\n",
            "  136062830137360: TensorSpec(shape=(), dtype=tf.resource, name=None)\n",
            "  136062830137744: TensorSpec(shape=(), dtype=tf.resource, name=None)\n",
            "  136062830138128: TensorSpec(shape=(), dtype=tf.resource, name=None)\n",
            "  136062830137936: TensorSpec(shape=(), dtype=tf.resource, name=None)\n",
            "  136062830133328: TensorSpec(shape=(), dtype=tf.resource, name=None)\n",
            "  136062830139280: TensorSpec(shape=(), dtype=tf.resource, name=None)\n",
            "  136062830139664: TensorSpec(shape=(), dtype=tf.resource, name=None)\n",
            "  136062830140048: TensorSpec(shape=(), dtype=tf.resource, name=None)\n",
            "  136062830139856: TensorSpec(shape=(), dtype=tf.resource, name=None)\n",
            "  136062830135056: TensorSpec(shape=(), dtype=tf.resource, name=None)\n",
            "  136062830141200: TensorSpec(shape=(), dtype=tf.resource, name=None)\n",
            "  136062830141584: TensorSpec(shape=(), dtype=tf.resource, name=None)\n",
            "  136062830141968: TensorSpec(shape=(), dtype=tf.resource, name=None)\n",
            "  136062830141776: TensorSpec(shape=(), dtype=tf.resource, name=None)\n",
            "  136062830136976: TensorSpec(shape=(), dtype=tf.resource, name=None)\n",
            "  136062830143120: TensorSpec(shape=(), dtype=tf.resource, name=None)\n",
            "  136062830143504: TensorSpec(shape=(), dtype=tf.resource, name=None)\n",
            "  136062830143888: TensorSpec(shape=(), dtype=tf.resource, name=None)\n",
            "  136062830143696: TensorSpec(shape=(), dtype=tf.resource, name=None)\n",
            "  136062830138896: TensorSpec(shape=(), dtype=tf.resource, name=None)\n",
            "  136062830145040: TensorSpec(shape=(), dtype=tf.resource, name=None)\n",
            "  136062830145424: TensorSpec(shape=(), dtype=tf.resource, name=None)\n",
            "  136062830145808: TensorSpec(shape=(), dtype=tf.resource, name=None)\n",
            "  136062830145616: TensorSpec(shape=(), dtype=tf.resource, name=None)\n",
            "  136062830140816: TensorSpec(shape=(), dtype=tf.resource, name=None)\n",
            "  136062830146960: TensorSpec(shape=(), dtype=tf.resource, name=None)\n",
            "  136062830147344: TensorSpec(shape=(), dtype=tf.resource, name=None)\n",
            "  136062830147728: TensorSpec(shape=(), dtype=tf.resource, name=None)\n",
            "  136062830147536: TensorSpec(shape=(), dtype=tf.resource, name=None)\n",
            "  136062830142736: TensorSpec(shape=(), dtype=tf.resource, name=None)\n",
            "  136062830148880: TensorSpec(shape=(), dtype=tf.resource, name=None)\n",
            "  136062830149456: TensorSpec(shape=(), dtype=tf.resource, name=None)\n",
            "  136062830148112: TensorSpec(shape=(), dtype=tf.resource, name=None)\n",
            "  136062830149264: TensorSpec(shape=(), dtype=tf.resource, name=None)\n",
            "  136062830146576: TensorSpec(shape=(), dtype=tf.resource, name=None)\n",
            "  136062830543120: TensorSpec(shape=(), dtype=tf.resource, name=None)\n",
            "  136062830544464: TensorSpec(shape=(), dtype=tf.resource, name=None)\n",
            "  136062830544848: TensorSpec(shape=(), dtype=tf.resource, name=None)\n",
            "  136062830544656: TensorSpec(shape=(), dtype=tf.resource, name=None)\n",
            "  136062830543312: TensorSpec(shape=(), dtype=tf.resource, name=None)\n",
            "  136062830546000: TensorSpec(shape=(), dtype=tf.resource, name=None)\n",
            "  136062830546384: TensorSpec(shape=(), dtype=tf.resource, name=None)\n",
            "  136062830546768: TensorSpec(shape=(), dtype=tf.resource, name=None)\n",
            "  136062830546576: TensorSpec(shape=(), dtype=tf.resource, name=None)\n",
            "  136062830543888: TensorSpec(shape=(), dtype=tf.resource, name=None)\n",
            "  136062830547920: TensorSpec(shape=(), dtype=tf.resource, name=None)\n",
            "  136062830548304: TensorSpec(shape=(), dtype=tf.resource, name=None)\n",
            "  136062830548688: TensorSpec(shape=(), dtype=tf.resource, name=None)\n",
            "  136062830548496: TensorSpec(shape=(), dtype=tf.resource, name=None)\n",
            "  136062830544080: TensorSpec(shape=(), dtype=tf.resource, name=None)\n",
            "  136062830549840: TensorSpec(shape=(), dtype=tf.resource, name=None)\n",
            "  136062830550224: TensorSpec(shape=(), dtype=tf.resource, name=None)\n",
            "  136062830550608: TensorSpec(shape=(), dtype=tf.resource, name=None)\n",
            "  136062830550416: TensorSpec(shape=(), dtype=tf.resource, name=None)\n",
            "  136062830545616: TensorSpec(shape=(), dtype=tf.resource, name=None)\n",
            "  136062830551760: TensorSpec(shape=(), dtype=tf.resource, name=None)\n",
            "  136062830552144: TensorSpec(shape=(), dtype=tf.resource, name=None)\n",
            "  136062830552528: TensorSpec(shape=(), dtype=tf.resource, name=None)\n",
            "  136062830552336: TensorSpec(shape=(), dtype=tf.resource, name=None)\n",
            "  136062830547536: TensorSpec(shape=(), dtype=tf.resource, name=None)\n",
            "  136062830553680: TensorSpec(shape=(), dtype=tf.resource, name=None)\n",
            "  136062830554064: TensorSpec(shape=(), dtype=tf.resource, name=None)\n",
            "  136062830554448: TensorSpec(shape=(), dtype=tf.resource, name=None)\n",
            "  136062830554256: TensorSpec(shape=(), dtype=tf.resource, name=None)\n",
            "  136062830549456: TensorSpec(shape=(), dtype=tf.resource, name=None)\n",
            "  136062830555600: TensorSpec(shape=(), dtype=tf.resource, name=None)\n",
            "  136062830555984: TensorSpec(shape=(), dtype=tf.resource, name=None)\n",
            "  136062830556368: TensorSpec(shape=(), dtype=tf.resource, name=None)\n",
            "  136062830556176: TensorSpec(shape=(), dtype=tf.resource, name=None)\n",
            "  136062830551376: TensorSpec(shape=(), dtype=tf.resource, name=None)\n",
            "  136062830557520: TensorSpec(shape=(), dtype=tf.resource, name=None)\n",
            "  136062830557904: TensorSpec(shape=(), dtype=tf.resource, name=None)\n",
            "  136062830558288: TensorSpec(shape=(), dtype=tf.resource, name=None)\n",
            "  136062830558096: TensorSpec(shape=(), dtype=tf.resource, name=None)\n",
            "  136062830553296: TensorSpec(shape=(), dtype=tf.resource, name=None)\n",
            "  136062830556752: TensorSpec(shape=(), dtype=tf.resource, name=None)\n",
            "  136062828871952: TensorSpec(shape=(), dtype=tf.resource, name=None)\n",
            "  136062828872720: TensorSpec(shape=(), dtype=tf.resource, name=None)\n",
            "  136062830559056: TensorSpec(shape=(), dtype=tf.resource, name=None)\n",
            "  136062830555216: TensorSpec(shape=(), dtype=tf.resource, name=None)\n",
            "  136062828873872: TensorSpec(shape=(), dtype=tf.resource, name=None)\n",
            "  136062828874256: TensorSpec(shape=(), dtype=tf.resource, name=None)\n",
            "  136062828874640: TensorSpec(shape=(), dtype=tf.resource, name=None)\n",
            "  136062828874448: TensorSpec(shape=(), dtype=tf.resource, name=None)\n",
            "  136062828872528: TensorSpec(shape=(), dtype=tf.resource, name=None)\n",
            "  136062828875792: TensorSpec(shape=(), dtype=tf.resource, name=None)\n",
            "  136062828876176: TensorSpec(shape=(), dtype=tf.resource, name=None)\n",
            "  136062828876560: TensorSpec(shape=(), dtype=tf.resource, name=None)\n",
            "  136062828876368: TensorSpec(shape=(), dtype=tf.resource, name=None)\n",
            "  136062828871760: TensorSpec(shape=(), dtype=tf.resource, name=None)\n",
            "  136062828877712: TensorSpec(shape=(), dtype=tf.resource, name=None)\n",
            "  136062828878096: TensorSpec(shape=(), dtype=tf.resource, name=None)\n",
            "  136062828878480: TensorSpec(shape=(), dtype=tf.resource, name=None)\n",
            "  136062828878288: TensorSpec(shape=(), dtype=tf.resource, name=None)\n",
            "  136062828873488: TensorSpec(shape=(), dtype=tf.resource, name=None)\n",
            "  136062828879632: TensorSpec(shape=(), dtype=tf.resource, name=None)\n",
            "  136062828880016: TensorSpec(shape=(), dtype=tf.resource, name=None)\n",
            "  136062828880400: TensorSpec(shape=(), dtype=tf.resource, name=None)\n",
            "  136062828880208: TensorSpec(shape=(), dtype=tf.resource, name=None)\n",
            "  136062828875408: TensorSpec(shape=(), dtype=tf.resource, name=None)\n",
            "  136062828881552: TensorSpec(shape=(), dtype=tf.resource, name=None)\n",
            "  136062828881936: TensorSpec(shape=(), dtype=tf.resource, name=None)\n",
            "  136062828882320: TensorSpec(shape=(), dtype=tf.resource, name=None)\n",
            "  136062828882128: TensorSpec(shape=(), dtype=tf.resource, name=None)\n",
            "  136062828877328: TensorSpec(shape=(), dtype=tf.resource, name=None)\n",
            "  136062828883472: TensorSpec(shape=(), dtype=tf.resource, name=None)\n",
            "  136062828883856: TensorSpec(shape=(), dtype=tf.resource, name=None)\n",
            "  136062828884240: TensorSpec(shape=(), dtype=tf.resource, name=None)\n",
            "  136062828884048: TensorSpec(shape=(), dtype=tf.resource, name=None)\n",
            "  136062828879248: TensorSpec(shape=(), dtype=tf.resource, name=None)\n",
            "  136062828885392: TensorSpec(shape=(), dtype=tf.resource, name=None)\n",
            "  136062828885776: TensorSpec(shape=(), dtype=tf.resource, name=None)\n",
            "  136062828886160: TensorSpec(shape=(), dtype=tf.resource, name=None)\n",
            "  136062828885968: TensorSpec(shape=(), dtype=tf.resource, name=None)\n",
            "  136062828881168: TensorSpec(shape=(), dtype=tf.resource, name=None)\n",
            "  136062828887312: TensorSpec(shape=(), dtype=tf.resource, name=None)\n",
            "  136062828887888: TensorSpec(shape=(), dtype=tf.resource, name=None)\n",
            "  136062828886544: TensorSpec(shape=(), dtype=tf.resource, name=None)\n",
            "  136062828887696: TensorSpec(shape=(), dtype=tf.resource, name=None)\n",
            "  136062828885008: TensorSpec(shape=(), dtype=tf.resource, name=None)\n",
            "  136062829297936: TensorSpec(shape=(), dtype=tf.resource, name=None)\n",
            "  136062829299280: TensorSpec(shape=(), dtype=tf.resource, name=None)\n",
            "  136062829299664: TensorSpec(shape=(), dtype=tf.resource, name=None)\n",
            "  136062829299472: TensorSpec(shape=(), dtype=tf.resource, name=None)\n",
            "  136062829298896: TensorSpec(shape=(), dtype=tf.resource, name=None)\n",
            "  136062829300816: TensorSpec(shape=(), dtype=tf.resource, name=None)\n",
            "  136062829301200: TensorSpec(shape=(), dtype=tf.resource, name=None)\n",
            "  136062829301584: TensorSpec(shape=(), dtype=tf.resource, name=None)\n",
            "  136062829301392: TensorSpec(shape=(), dtype=tf.resource, name=None)\n",
            "  136062829298128: TensorSpec(shape=(), dtype=tf.resource, name=None)\n",
            "  136062829302736: TensorSpec(shape=(), dtype=tf.resource, name=None)\n",
            "  136062829303120: TensorSpec(shape=(), dtype=tf.resource, name=None)\n",
            "  136062829303504: TensorSpec(shape=(), dtype=tf.resource, name=None)\n",
            "  136062829303312: TensorSpec(shape=(), dtype=tf.resource, name=None)\n",
            "  136062829298320: TensorSpec(shape=(), dtype=tf.resource, name=None)\n",
            "  136062829304656: TensorSpec(shape=(), dtype=tf.resource, name=None)\n",
            "  136062829305040: TensorSpec(shape=(), dtype=tf.resource, name=None)\n",
            "  136062829305424: TensorSpec(shape=(), dtype=tf.resource, name=None)\n",
            "  136062829305232: TensorSpec(shape=(), dtype=tf.resource, name=None)\n",
            "  136062829300432: TensorSpec(shape=(), dtype=tf.resource, name=None)\n",
            "  136062829306576: TensorSpec(shape=(), dtype=tf.resource, name=None)\n",
            "  136062829306960: TensorSpec(shape=(), dtype=tf.resource, name=None)\n",
            "  136062829307344: TensorSpec(shape=(), dtype=tf.resource, name=None)\n",
            "  136062829307152: TensorSpec(shape=(), dtype=tf.resource, name=None)\n",
            "  136062829302352: TensorSpec(shape=(), dtype=tf.resource, name=None)\n",
            "  136062829308496: TensorSpec(shape=(), dtype=tf.resource, name=None)\n",
            "  136062829308880: TensorSpec(shape=(), dtype=tf.resource, name=None)\n",
            "  136062829309264: TensorSpec(shape=(), dtype=tf.resource, name=None)\n",
            "  136062829309072: TensorSpec(shape=(), dtype=tf.resource, name=None)\n",
            "  136062829304272: TensorSpec(shape=(), dtype=tf.resource, name=None)\n",
            "  136062829310416: TensorSpec(shape=(), dtype=tf.resource, name=None)\n",
            "  136062829310800: TensorSpec(shape=(), dtype=tf.resource, name=None)\n",
            "  136062829311184: TensorSpec(shape=(), dtype=tf.resource, name=None)\n",
            "  136062829310992: TensorSpec(shape=(), dtype=tf.resource, name=None)\n",
            "  136062829306192: TensorSpec(shape=(), dtype=tf.resource, name=None)\n",
            "  136062829312336: TensorSpec(shape=(), dtype=tf.resource, name=None)\n",
            "  136062829312720: TensorSpec(shape=(), dtype=tf.resource, name=None)\n",
            "  136062829313104: TensorSpec(shape=(), dtype=tf.resource, name=None)\n",
            "  136062829312912: TensorSpec(shape=(), dtype=tf.resource, name=None)\n",
            "  136062829308112: TensorSpec(shape=(), dtype=tf.resource, name=None)\n",
            "  136062829311568: TensorSpec(shape=(), dtype=tf.resource, name=None)\n",
            "  136062827660496: TensorSpec(shape=(), dtype=tf.resource, name=None)\n",
            "  136062827659536: TensorSpec(shape=(), dtype=tf.resource, name=None)\n",
            "  136062829313872: TensorSpec(shape=(), dtype=tf.resource, name=None)\n",
            "  136062829310032: TensorSpec(shape=(), dtype=tf.resource, name=None)\n",
            "  136062827661456: TensorSpec(shape=(), dtype=tf.resource, name=None)\n",
            "  136062827661840: TensorSpec(shape=(), dtype=tf.resource, name=None)\n",
            "  136062827662224: TensorSpec(shape=(), dtype=tf.resource, name=None)\n",
            "  136062827662032: TensorSpec(shape=(), dtype=tf.resource, name=None)\n",
            "  136062827659920: TensorSpec(shape=(), dtype=tf.resource, name=None)\n",
            "  136062827663376: TensorSpec(shape=(), dtype=tf.resource, name=None)\n",
            "  136062827663760: TensorSpec(shape=(), dtype=tf.resource, name=None)\n",
            "  136062827664144: TensorSpec(shape=(), dtype=tf.resource, name=None)\n",
            "  136062827663952: TensorSpec(shape=(), dtype=tf.resource, name=None)\n",
            "  136062827660688: TensorSpec(shape=(), dtype=tf.resource, name=None)\n",
            "  136062827665296: TensorSpec(shape=(), dtype=tf.resource, name=None)\n",
            "  136062827665680: TensorSpec(shape=(), dtype=tf.resource, name=None)\n",
            "  136062827666064: TensorSpec(shape=(), dtype=tf.resource, name=None)\n",
            "  136062827665872: TensorSpec(shape=(), dtype=tf.resource, name=None)\n",
            "  136062827661072: TensorSpec(shape=(), dtype=tf.resource, name=None)\n",
            "  136062827667216: TensorSpec(shape=(), dtype=tf.resource, name=None)\n",
            "  136062827667600: TensorSpec(shape=(), dtype=tf.resource, name=None)\n",
            "  136062827667984: TensorSpec(shape=(), dtype=tf.resource, name=None)\n",
            "  136062827667792: TensorSpec(shape=(), dtype=tf.resource, name=None)\n",
            "  136062827662992: TensorSpec(shape=(), dtype=tf.resource, name=None)\n",
            "  136062827669136: TensorSpec(shape=(), dtype=tf.resource, name=None)\n",
            "  136062827669520: TensorSpec(shape=(), dtype=tf.resource, name=None)\n",
            "  136062827669904: TensorSpec(shape=(), dtype=tf.resource, name=None)\n",
            "  136062827669712: TensorSpec(shape=(), dtype=tf.resource, name=None)\n",
            "  136062827664912: TensorSpec(shape=(), dtype=tf.resource, name=None)\n",
            "  136062827671056: TensorSpec(shape=(), dtype=tf.resource, name=None)\n",
            "  136062827671440: TensorSpec(shape=(), dtype=tf.resource, name=None)\n",
            "  136062827671824: TensorSpec(shape=(), dtype=tf.resource, name=None)\n",
            "  136062827671632: TensorSpec(shape=(), dtype=tf.resource, name=None)\n",
            "  136062827666832: TensorSpec(shape=(), dtype=tf.resource, name=None)\n",
            "  136062827672976: TensorSpec(shape=(), dtype=tf.resource, name=None)\n",
            "  136062827673360: TensorSpec(shape=(), dtype=tf.resource, name=None)\n",
            "  136062827673744: TensorSpec(shape=(), dtype=tf.resource, name=None)\n",
            "  136062827673552: TensorSpec(shape=(), dtype=tf.resource, name=None)\n",
            "  136062827668752: TensorSpec(shape=(), dtype=tf.resource, name=None)\n",
            "  136062827674896: TensorSpec(shape=(), dtype=tf.resource, name=None)\n",
            "  136062827675472: TensorSpec(shape=(), dtype=tf.resource, name=None)\n",
            "  136062827674128: TensorSpec(shape=(), dtype=tf.resource, name=None)\n",
            "  136062827675280: TensorSpec(shape=(), dtype=tf.resource, name=None)\n",
            "  136062827672592: TensorSpec(shape=(), dtype=tf.resource, name=None)\n",
            "  136062828101904: TensorSpec(shape=(), dtype=tf.resource, name=None)\n",
            "  136062828103248: TensorSpec(shape=(), dtype=tf.resource, name=None)\n",
            "  136062828103632: TensorSpec(shape=(), dtype=tf.resource, name=None)\n",
            "  136062828103440: TensorSpec(shape=(), dtype=tf.resource, name=None)\n",
            "  136062828102864: TensorSpec(shape=(), dtype=tf.resource, name=None)\n",
            "  136062828104784: TensorSpec(shape=(), dtype=tf.resource, name=None)\n",
            "  136062828105168: TensorSpec(shape=(), dtype=tf.resource, name=None)\n",
            "  136062828105552: TensorSpec(shape=(), dtype=tf.resource, name=None)\n",
            "  136062828105360: TensorSpec(shape=(), dtype=tf.resource, name=None)\n",
            "  136062828102096: TensorSpec(shape=(), dtype=tf.resource, name=None)\n",
            "  136062828106704: TensorSpec(shape=(), dtype=tf.resource, name=None)\n",
            "  136062828107088: TensorSpec(shape=(), dtype=tf.resource, name=None)\n",
            "  136062828107472: TensorSpec(shape=(), dtype=tf.resource, name=None)\n",
            "  136062828107280: TensorSpec(shape=(), dtype=tf.resource, name=None)\n",
            "  136062828102288: TensorSpec(shape=(), dtype=tf.resource, name=None)\n",
            "  136062828108624: TensorSpec(shape=(), dtype=tf.resource, name=None)\n",
            "  136062828109008: TensorSpec(shape=(), dtype=tf.resource, name=None)\n",
            "  136062828109392: TensorSpec(shape=(), dtype=tf.resource, name=None)\n",
            "  136062828109200: TensorSpec(shape=(), dtype=tf.resource, name=None)\n",
            "  136062828104400: TensorSpec(shape=(), dtype=tf.resource, name=None)\n",
            "  136062828110544: TensorSpec(shape=(), dtype=tf.resource, name=None)\n",
            "  136062828110928: TensorSpec(shape=(), dtype=tf.resource, name=None)\n",
            "  136062828111312: TensorSpec(shape=(), dtype=tf.resource, name=None)\n",
            "  136062828111120: TensorSpec(shape=(), dtype=tf.resource, name=None)\n",
            "  136062828106320: TensorSpec(shape=(), dtype=tf.resource, name=None)\n",
            "  136062828112464: TensorSpec(shape=(), dtype=tf.resource, name=None)\n",
            "  136062828112848: TensorSpec(shape=(), dtype=tf.resource, name=None)\n",
            "  136062828113232: TensorSpec(shape=(), dtype=tf.resource, name=None)\n",
            "  136062828113040: TensorSpec(shape=(), dtype=tf.resource, name=None)\n",
            "  136062828108240: TensorSpec(shape=(), dtype=tf.resource, name=None)\n",
            "  136062828114384: TensorSpec(shape=(), dtype=tf.resource, name=None)\n",
            "  136062828114768: TensorSpec(shape=(), dtype=tf.resource, name=None)\n",
            "  136062828115152: TensorSpec(shape=(), dtype=tf.resource, name=None)\n",
            "  136062828114960: TensorSpec(shape=(), dtype=tf.resource, name=None)\n",
            "  136062828110160: TensorSpec(shape=(), dtype=tf.resource, name=None)\n",
            "  136062828116304: TensorSpec(shape=(), dtype=tf.resource, name=None)\n",
            "  136062828117264: TensorSpec(shape=(), dtype=tf.resource, name=None)\n",
            "  136062828112080: TensorSpec(shape=(), dtype=tf.resource, name=None)\n",
            "  136062828115920: TensorSpec(shape=(), dtype=tf.resource, name=None)\n",
            "  136062828115536: TensorSpec(shape=(), dtype=tf.resource, name=None)\n",
            "  136062828116688: TensorSpec(shape=(), dtype=tf.resource, name=None)\n",
            "  136062828577040: TensorSpec(shape=(), dtype=tf.resource, name=None)\n",
            "  136062828577808: TensorSpec(shape=(), dtype=tf.resource, name=None)\n",
            "  136062828117840: TensorSpec(shape=(), dtype=tf.resource, name=None)\n",
            "  136062828116880: TensorSpec(shape=(), dtype=tf.resource, name=None)\n",
            "  136062828578960: TensorSpec(shape=(), dtype=tf.resource, name=None)\n",
            "  136062828579344: TensorSpec(shape=(), dtype=tf.resource, name=None)\n",
            "  136062828579728: TensorSpec(shape=(), dtype=tf.resource, name=None)\n",
            "  136062828579536: TensorSpec(shape=(), dtype=tf.resource, name=None)\n",
            "  136062828577616: TensorSpec(shape=(), dtype=tf.resource, name=None)\n",
            "  136062828580880: TensorSpec(shape=(), dtype=tf.resource, name=None)\n",
            "  136062828581264: TensorSpec(shape=(), dtype=tf.resource, name=None)\n",
            "  136062828581648: TensorSpec(shape=(), dtype=tf.resource, name=None)\n",
            "  136062828581456: TensorSpec(shape=(), dtype=tf.resource, name=None)\n",
            "  136062828576848: TensorSpec(shape=(), dtype=tf.resource, name=None)\n",
            "  136062828582800: TensorSpec(shape=(), dtype=tf.resource, name=None)\n",
            "  136062828583184: TensorSpec(shape=(), dtype=tf.resource, name=None)\n",
            "  136062828583568: TensorSpec(shape=(), dtype=tf.resource, name=None)\n",
            "  136062828583376: TensorSpec(shape=(), dtype=tf.resource, name=None)\n",
            "  136062828578576: TensorSpec(shape=(), dtype=tf.resource, name=None)\n",
            "  136062828584720: TensorSpec(shape=(), dtype=tf.resource, name=None)\n",
            "  136062828585104: TensorSpec(shape=(), dtype=tf.resource, name=None)\n",
            "  136062828585488: TensorSpec(shape=(), dtype=tf.resource, name=None)\n",
            "  136062828585296: TensorSpec(shape=(), dtype=tf.resource, name=None)\n",
            "  136062828580496: TensorSpec(shape=(), dtype=tf.resource, name=None)\n",
            "  136062828586640: TensorSpec(shape=(), dtype=tf.resource, name=None)\n",
            "  136062828587024: TensorSpec(shape=(), dtype=tf.resource, name=None)\n",
            "  136062828587408: TensorSpec(shape=(), dtype=tf.resource, name=None)\n",
            "  136062828587216: TensorSpec(shape=(), dtype=tf.resource, name=None)\n",
            "  136062828582416: TensorSpec(shape=(), dtype=tf.resource, name=None)\n",
            "  136062828588560: TensorSpec(shape=(), dtype=tf.resource, name=None)\n",
            "  136062828588944: TensorSpec(shape=(), dtype=tf.resource, name=None)\n",
            "  136062828589328: TensorSpec(shape=(), dtype=tf.resource, name=None)\n",
            "  136062828589136: TensorSpec(shape=(), dtype=tf.resource, name=None)\n",
            "  136062828584336: TensorSpec(shape=(), dtype=tf.resource, name=None)\n",
            "  136062828590480: TensorSpec(shape=(), dtype=tf.resource, name=None)\n",
            "  136062828590864: TensorSpec(shape=(), dtype=tf.resource, name=None)\n",
            "  136062828591248: TensorSpec(shape=(), dtype=tf.resource, name=None)\n",
            "  136062828591056: TensorSpec(shape=(), dtype=tf.resource, name=None)\n",
            "  136062828586256: TensorSpec(shape=(), dtype=tf.resource, name=None)\n",
            "  136062828592400: TensorSpec(shape=(), dtype=tf.resource, name=None)\n",
            "  136062828592976: TensorSpec(shape=(), dtype=tf.resource, name=None)\n",
            "  136062828591632: TensorSpec(shape=(), dtype=tf.resource, name=None)\n",
            "  136062828592784: TensorSpec(shape=(), dtype=tf.resource, name=None)\n",
            "  136062828590096: TensorSpec(shape=(), dtype=tf.resource, name=None)\n",
            "  136062826889488: TensorSpec(shape=(), dtype=tf.resource, name=None)\n",
            "  136062826890832: TensorSpec(shape=(), dtype=tf.resource, name=None)\n",
            "  136062826891216: TensorSpec(shape=(), dtype=tf.resource, name=None)\n",
            "  136062826891024: TensorSpec(shape=(), dtype=tf.resource, name=None)\n",
            "  136062826890448: TensorSpec(shape=(), dtype=tf.resource, name=None)\n",
            "  136062826892368: TensorSpec(shape=(), dtype=tf.resource, name=None)\n",
            "  136062826892752: TensorSpec(shape=(), dtype=tf.resource, name=None)\n",
            "  136062826893136: TensorSpec(shape=(), dtype=tf.resource, name=None)\n",
            "  136062826892944: TensorSpec(shape=(), dtype=tf.resource, name=None)\n",
            "  136062826889680: TensorSpec(shape=(), dtype=tf.resource, name=None)\n",
            "  136062826894288: TensorSpec(shape=(), dtype=tf.resource, name=None)\n",
            "  136062826894672: TensorSpec(shape=(), dtype=tf.resource, name=None)\n",
            "  136062826895056: TensorSpec(shape=(), dtype=tf.resource, name=None)\n",
            "  136062826894864: TensorSpec(shape=(), dtype=tf.resource, name=None)\n",
            "  136062826889872: TensorSpec(shape=(), dtype=tf.resource, name=None)\n",
            "  136062826896208: TensorSpec(shape=(), dtype=tf.resource, name=None)\n",
            "  136062826896592: TensorSpec(shape=(), dtype=tf.resource, name=None)\n",
            "  136062826896976: TensorSpec(shape=(), dtype=tf.resource, name=None)\n",
            "  136062826896784: TensorSpec(shape=(), dtype=tf.resource, name=None)\n",
            "  136062826891984: TensorSpec(shape=(), dtype=tf.resource, name=None)\n",
            "  136062826898128: TensorSpec(shape=(), dtype=tf.resource, name=None)\n",
            "  136062826898512: TensorSpec(shape=(), dtype=tf.resource, name=None)\n",
            "  136062826898896: TensorSpec(shape=(), dtype=tf.resource, name=None)\n",
            "  136062826898704: TensorSpec(shape=(), dtype=tf.resource, name=None)\n",
            "  136062826893904: TensorSpec(shape=(), dtype=tf.resource, name=None)\n",
            "  136062826900048: TensorSpec(shape=(), dtype=tf.resource, name=None)\n",
            "  136062826900432: TensorSpec(shape=(), dtype=tf.resource, name=None)\n",
            "  136062826900816: TensorSpec(shape=(), dtype=tf.resource, name=None)\n",
            "  136062826900624: TensorSpec(shape=(), dtype=tf.resource, name=None)\n",
            "  136062826895824: TensorSpec(shape=(), dtype=tf.resource, name=None)\n",
            "  136062826901968: TensorSpec(shape=(), dtype=tf.resource, name=None)\n",
            "  136062826902352: TensorSpec(shape=(), dtype=tf.resource, name=None)\n",
            "  136062826902736: TensorSpec(shape=(), dtype=tf.resource, name=None)\n",
            "  136062826902544: TensorSpec(shape=(), dtype=tf.resource, name=None)\n",
            "  136062826897744: TensorSpec(shape=(), dtype=tf.resource, name=None)\n",
            "  136062826903888: TensorSpec(shape=(), dtype=tf.resource, name=None)\n",
            "  136062826904272: TensorSpec(shape=(), dtype=tf.resource, name=None)\n",
            "  136062826904656: TensorSpec(shape=(), dtype=tf.resource, name=None)\n",
            "  136062826904464: TensorSpec(shape=(), dtype=tf.resource, name=None)\n",
            "  136062826899664: TensorSpec(shape=(), dtype=tf.resource, name=None)\n",
            "  136062826903120: TensorSpec(shape=(), dtype=tf.resource, name=None)\n",
            "  136062827315472: TensorSpec(shape=(), dtype=tf.resource, name=None)\n",
            "  136062827316240: TensorSpec(shape=(), dtype=tf.resource, name=None)\n",
            "  136062826905424: TensorSpec(shape=(), dtype=tf.resource, name=None)\n",
            "  136062826901584: TensorSpec(shape=(), dtype=tf.resource, name=None)\n",
            "  136062827317392: TensorSpec(shape=(), dtype=tf.resource, name=None)\n",
            "  136062827317776: TensorSpec(shape=(), dtype=tf.resource, name=None)\n",
            "  136062827318160: TensorSpec(shape=(), dtype=tf.resource, name=None)\n",
            "  136062827317968: TensorSpec(shape=(), dtype=tf.resource, name=None)\n",
            "  136062827316048: TensorSpec(shape=(), dtype=tf.resource, name=None)\n",
            "  136062827319312: TensorSpec(shape=(), dtype=tf.resource, name=None)\n",
            "  136062827319696: TensorSpec(shape=(), dtype=tf.resource, name=None)\n",
            "  136062827320080: TensorSpec(shape=(), dtype=tf.resource, name=None)\n",
            "  136062827319888: TensorSpec(shape=(), dtype=tf.resource, name=None)\n",
            "  136062827315280: TensorSpec(shape=(), dtype=tf.resource, name=None)\n",
            "  136062827321232: TensorSpec(shape=(), dtype=tf.resource, name=None)\n",
            "  136062827321616: TensorSpec(shape=(), dtype=tf.resource, name=None)\n",
            "  136062827322000: TensorSpec(shape=(), dtype=tf.resource, name=None)\n",
            "  136062827321808: TensorSpec(shape=(), dtype=tf.resource, name=None)\n",
            "  136062827317008: TensorSpec(shape=(), dtype=tf.resource, name=None)\n",
            "  136062827323152: TensorSpec(shape=(), dtype=tf.resource, name=None)\n",
            "  136062827323536: TensorSpec(shape=(), dtype=tf.resource, name=None)\n",
            "  136062827323920: TensorSpec(shape=(), dtype=tf.resource, name=None)\n",
            "  136062827323728: TensorSpec(shape=(), dtype=tf.resource, name=None)\n",
            "  136062827318928: TensorSpec(shape=(), dtype=tf.resource, name=None)\n",
            "  136062827325072: TensorSpec(shape=(), dtype=tf.resource, name=None)\n",
            "  136062827325456: TensorSpec(shape=(), dtype=tf.resource, name=None)\n",
            "  136062827325840: TensorSpec(shape=(), dtype=tf.resource, name=None)\n",
            "  136062827325648: TensorSpec(shape=(), dtype=tf.resource, name=None)\n",
            "  136062827320848: TensorSpec(shape=(), dtype=tf.resource, name=None)\n",
            "  136062827326992: TensorSpec(shape=(), dtype=tf.resource, name=None)\n",
            "  136062827327376: TensorSpec(shape=(), dtype=tf.resource, name=None)\n",
            "  136062827327760: TensorSpec(shape=(), dtype=tf.resource, name=None)\n",
            "  136062827327568: TensorSpec(shape=(), dtype=tf.resource, name=None)\n",
            "  136062827322768: TensorSpec(shape=(), dtype=tf.resource, name=None)\n",
            "  136062827328912: TensorSpec(shape=(), dtype=tf.resource, name=None)\n",
            "  136062827329296: TensorSpec(shape=(), dtype=tf.resource, name=None)\n",
            "  136062827329680: TensorSpec(shape=(), dtype=tf.resource, name=None)\n",
            "  136062827329488: TensorSpec(shape=(), dtype=tf.resource, name=None)\n",
            "  136062827324688: TensorSpec(shape=(), dtype=tf.resource, name=None)\n",
            "  136062827330832: TensorSpec(shape=(), dtype=tf.resource, name=None)\n",
            "  136062827331408: TensorSpec(shape=(), dtype=tf.resource, name=None)\n",
            "  136062827330064: TensorSpec(shape=(), dtype=tf.resource, name=None)\n",
            "  136062827331216: TensorSpec(shape=(), dtype=tf.resource, name=None)\n",
            "  136062827328528: TensorSpec(shape=(), dtype=tf.resource, name=None)\n",
            "  136062825726224: TensorSpec(shape=(), dtype=tf.resource, name=None)\n",
            "  136062825727568: TensorSpec(shape=(), dtype=tf.resource, name=None)\n",
            "  136062825727952: TensorSpec(shape=(), dtype=tf.resource, name=None)\n",
            "  136062825727760: TensorSpec(shape=(), dtype=tf.resource, name=None)\n",
            "  136062825726416: TensorSpec(shape=(), dtype=tf.resource, name=None)\n",
            "  136062825729104: TensorSpec(shape=(), dtype=tf.resource, name=None)\n",
            "  136062825729488: TensorSpec(shape=(), dtype=tf.resource, name=None)\n",
            "  136062825729872: TensorSpec(shape=(), dtype=tf.resource, name=None)\n",
            "  136062825729680: TensorSpec(shape=(), dtype=tf.resource, name=None)\n",
            "  136062825726992: TensorSpec(shape=(), dtype=tf.resource, name=None)\n",
            "  136062825731024: TensorSpec(shape=(), dtype=tf.resource, name=None)\n",
            "  136062825731408: TensorSpec(shape=(), dtype=tf.resource, name=None)\n",
            "  136062825731792: TensorSpec(shape=(), dtype=tf.resource, name=None)\n",
            "  136062825731600: TensorSpec(shape=(), dtype=tf.resource, name=None)\n",
            "  136062825727184: TensorSpec(shape=(), dtype=tf.resource, name=None)\n",
            "  136062825726800: TensorSpec(shape=(), dtype=tf.resource, name=None)\n",
            "  136062825734096: TensorSpec(shape=(), dtype=tf.resource, name=None)\n",
            "  136062825733328: TensorSpec(shape=(), dtype=tf.resource, name=None)\n",
            "  136062825735248: TensorSpec(shape=(), dtype=tf.resource, name=None)\n",
            "  136062825734672: TensorSpec(shape=(), dtype=tf.resource, name=None)\n",
            "  136062825736016: TensorSpec(shape=(), dtype=tf.resource, name=None)\n"
          ]
        }
      ]
    },
    {
      "cell_type": "code",
      "source": [
        "!zip -r my_model_tf.zip my_model_tf\n",
        "from google.colab import files\n",
        "files.download(\"my_model_tf.zip\")"
      ],
      "metadata": {
        "colab": {
          "base_uri": "https://localhost:8080/",
          "height": 138
        },
        "id": "2xSiVshn1FsC",
        "outputId": "aa3d88f9-0d40-4f0f-8abf-c69aff490395"
      },
      "execution_count": 17,
      "outputs": [
        {
          "output_type": "stream",
          "name": "stdout",
          "text": [
            "  adding: my_model_tf/ (stored 0%)\n",
            "  adding: my_model_tf/variables/ (stored 0%)\n",
            "  adding: my_model_tf/variables/variables.data-00000-of-00001 (deflated 7%)\n",
            "  adding: my_model_tf/variables/variables.index (deflated 79%)\n",
            "  adding: my_model_tf/assets/ (stored 0%)\n",
            "  adding: my_model_tf/saved_model.pb (deflated 91%)\n",
            "  adding: my_model_tf/fingerprint.pb (stored 0%)\n"
          ]
        },
        {
          "output_type": "display_data",
          "data": {
            "text/plain": [
              "<IPython.core.display.Javascript object>"
            ],
            "application/javascript": [
              "\n",
              "    async function download(id, filename, size) {\n",
              "      if (!google.colab.kernel.accessAllowed) {\n",
              "        return;\n",
              "      }\n",
              "      const div = document.createElement('div');\n",
              "      const label = document.createElement('label');\n",
              "      label.textContent = `Downloading \"${filename}\": `;\n",
              "      div.appendChild(label);\n",
              "      const progress = document.createElement('progress');\n",
              "      progress.max = size;\n",
              "      div.appendChild(progress);\n",
              "      document.body.appendChild(div);\n",
              "\n",
              "      const buffers = [];\n",
              "      let downloaded = 0;\n",
              "\n",
              "      const channel = await google.colab.kernel.comms.open(id);\n",
              "      // Send a message to notify the kernel that we're ready.\n",
              "      channel.send({})\n",
              "\n",
              "      for await (const message of channel.messages) {\n",
              "        // Send a message to notify the kernel that we're ready.\n",
              "        channel.send({})\n",
              "        if (message.buffers) {\n",
              "          for (const buffer of message.buffers) {\n",
              "            buffers.push(buffer);\n",
              "            downloaded += buffer.byteLength;\n",
              "            progress.value = downloaded;\n",
              "          }\n",
              "        }\n",
              "      }\n",
              "      const blob = new Blob(buffers, {type: 'application/binary'});\n",
              "      const a = document.createElement('a');\n",
              "      a.href = window.URL.createObjectURL(blob);\n",
              "      a.download = filename;\n",
              "      div.appendChild(a);\n",
              "      a.click();\n",
              "      div.remove();\n",
              "    }\n",
              "  "
            ]
          },
          "metadata": {}
        },
        {
          "output_type": "display_data",
          "data": {
            "text/plain": [
              "<IPython.core.display.Javascript object>"
            ],
            "application/javascript": [
              "download(\"download_5ff9057a-87a8-44d5-9f64-9d2f33f2e0e8\", \"my_model_tf.zip\", 54973481)"
            ]
          },
          "metadata": {}
        }
      ]
    },
    {
      "cell_type": "code",
      "execution_count": 14,
      "metadata": {
        "id": "UCPY8QkmxCqd",
        "colab": {
          "base_uri": "https://localhost:8080/",
          "height": 927
        },
        "outputId": "22b12491-a43d-4b41-cfa3-1a4e044620f7"
      },
      "outputs": [
        {
          "output_type": "display_data",
          "data": {
            "text/plain": [
              "<Figure size 640x480 with 1 Axes>"
            ],
            "image/png": "[encoded data removed]"
          },
          "metadata": {}
        },
        {
          "output_type": "display_data",
          "data": {
            "text/plain": [
              "<Figure size 640x480 with 1 Axes>"
            ],
            "image/png": "[encoded data removed]"
          },
          "metadata": {}
        }
      ],
      "source": [
        "plt.plot(history1.history['accuracy'], label='Train Accuracy')\n",
        "plt.plot(history1.history['val_accuracy'], label='Val Accuracy')\n",
        "plt.title('Courbe d\\'Accuracy (Phase 1)')\n",
        "plt.xlabel('Epoch')\n",
        "plt.ylabel('Accuracy')\n",
        "plt.legend()\n",
        "plt.grid(True)\n",
        "plt.show()\n",
        "\n",
        "plt.plot(history2.history['accuracy'], label='Train Accuracy')\n",
        "plt.plot(history2.history['val_accuracy'], label='Val Accuracy')\n",
        "plt.title('Courbe d\\'Accuracy (Phase 2)')\n",
        "plt.xlabel('Epoch')\n",
        "plt.ylabel('Accuracy')\n",
        "plt.legend()\n",
        "plt.grid(True)\n",
        "plt.show()"
      ]
    }
  ],
  "metadata": {
    "colab": {
      "provenance": []
    },
    "kernelspec": {
      "display_name": "Python 3",
      "name": "python3"
    },
    "language_info": {
      "name": "python"
    }
  },
  "nbformat": 4,
  "nbformat_minor": 0
}